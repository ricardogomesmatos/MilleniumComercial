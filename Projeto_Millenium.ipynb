{
  "nbformat": 4,
  "nbformat_minor": 0,
  "metadata": {
    "colab": {
      "name": "Projeto Millenium.ipynb",
      "provenance": [],
      "collapsed_sections": [
        "wBUeGbSxdnHj",
        "T98BQbco35Yv",
        "PMgFxwlL4hFG",
        "s4fwY0us6RbU",
        "pjbpKpTkA3wA",
        "u6p0mGjt3QvH",
        "p5zl8wORB_Ae",
        "6LpkOhc07djE",
        "e_JQHqUXjJo1"
      ],
      "authorship_tag": "ABX9TyM70WUby4jSvjH9v7YxJHI5",
      "include_colab_link": true
    },
    "kernelspec": {
      "name": "python3",
      "display_name": "Python 3"
    },
    "language_info": {
      "name": "python"
    }
  },
  "cells": [
    {
      "cell_type": "markdown",
      "metadata": {
        "id": "view-in-github",
        "colab_type": "text"
      },
      "source": [
        "<a href=\"https://colab.research.google.com/github/ricardogomesmatos/MilleniumComercial/blob/main/Projeto_Millenium.ipynb\" target=\"_parent\"><img src=\"https://colab.research.google.com/assets/colab-badge.svg\" alt=\"Open In Colab\"/></a>"
      ]
    },
    {
      "cell_type": "markdown",
      "source": [
        "# **Leitura do campo comercial - Millenium - Setor Litoral**\n",
        "\n",
        "Neste projeto, estaremos simplificando em números e em gráficos alguns pontos para uma melhor visitação planejada. Abordaremos temas que implicam no custo do trabalho.\n",
        "\n",
        "Na rota do litoral, na Millenium Comercial, atendemos 10 cidades. Com diferentes distâncias, o setor de viagem necessita de uma otimiazação para que o PDA seja de fato bem aproveitado."
      ],
      "metadata": {
        "id": "wBUeGbSxdnHj"
      }
    },
    {
      "cell_type": "markdown",
      "source": [
        "Os códigos, CNPJS, razão social, endereço e número foram alterados para preservar os dados dos clientes."
      ],
      "metadata": {
        "id": "vTBYL8SXBlQh"
      }
    },
    {
      "cell_type": "markdown",
      "source": [
        "# Custo Médio Mensal\n",
        "- O estudo será feito de acordo com a média do valor da gasolina, no início do projeto;\n",
        "- A distância baseia-se a partir da origem, Guarapari, para as outras cidades da Rota."
      ],
      "metadata": {
        "id": "T98BQbco35Yv"
      }
    },
    {
      "cell_type": "markdown",
      "source": [
        "## Quilometragem para visitação - ROTA"
      ],
      "metadata": {
        "id": "PMgFxwlL4hFG"
      }
    },
    {
      "cell_type": "code",
      "source": [
        "# Importando as bibliotecas usadas no projeto\n",
        "\n",
        "!pip install seaborn==0.9.0\n",
        "import seaborn as sns\n",
        "import pandas as pd\n",
        "import numpy as np\n",
        "import matplotlib.pyplot as plt\n",
        "import folium\n",
        "%matplotlib inline"
      ],
      "metadata": {
        "colab": {
          "base_uri": "https://localhost:8080/"
        },
        "id": "O2LTwugO05zB",
        "outputId": "9a763e33-a7c0-4673-b858-6bf012805566"
      },
      "execution_count": 2,
      "outputs": [
        {
          "output_type": "stream",
          "name": "stdout",
          "text": [
            "Collecting seaborn==0.9.0\n",
            "  Downloading seaborn-0.9.0-py3-none-any.whl (208 kB)\n",
            "\u001b[?25l\r\u001b[K     |█▋                              | 10 kB 20.7 MB/s eta 0:00:01\r\u001b[K     |███▏                            | 20 kB 26.7 MB/s eta 0:00:01\r\u001b[K     |████▊                           | 30 kB 31.0 MB/s eta 0:00:01\r\u001b[K     |██████▎                         | 40 kB 26.2 MB/s eta 0:00:01\r\u001b[K     |███████▉                        | 51 kB 21.3 MB/s eta 0:00:01\r\u001b[K     |█████████▌                      | 61 kB 24.2 MB/s eta 0:00:01\r\u001b[K     |███████████                     | 71 kB 24.6 MB/s eta 0:00:01\r\u001b[K     |████████████▋                   | 81 kB 23.5 MB/s eta 0:00:01\r\u001b[K     |██████████████▏                 | 92 kB 25.2 MB/s eta 0:00:01\r\u001b[K     |███████████████▊                | 102 kB 26.5 MB/s eta 0:00:01\r\u001b[K     |█████████████████▎              | 112 kB 26.5 MB/s eta 0:00:01\r\u001b[K     |███████████████████             | 122 kB 26.5 MB/s eta 0:00:01\r\u001b[K     |████████████████████▌           | 133 kB 26.5 MB/s eta 0:00:01\r\u001b[K     |██████████████████████          | 143 kB 26.5 MB/s eta 0:00:01\r\u001b[K     |███████████████████████▋        | 153 kB 26.5 MB/s eta 0:00:01\r\u001b[K     |█████████████████████████▏      | 163 kB 26.5 MB/s eta 0:00:01\r\u001b[K     |██████████████████████████▊     | 174 kB 26.5 MB/s eta 0:00:01\r\u001b[K     |████████████████████████████▍   | 184 kB 26.5 MB/s eta 0:00:01\r\u001b[K     |██████████████████████████████  | 194 kB 26.5 MB/s eta 0:00:01\r\u001b[K     |███████████████████████████████▌| 204 kB 26.5 MB/s eta 0:00:01\r\u001b[K     |████████████████████████████████| 208 kB 26.5 MB/s \n",
            "\u001b[?25hRequirement already satisfied: scipy>=0.14.0 in /usr/local/lib/python3.7/dist-packages (from seaborn==0.9.0) (1.4.1)\n",
            "Requirement already satisfied: matplotlib>=1.4.3 in /usr/local/lib/python3.7/dist-packages (from seaborn==0.9.0) (3.2.2)\n",
            "Requirement already satisfied: numpy>=1.9.3 in /usr/local/lib/python3.7/dist-packages (from seaborn==0.9.0) (1.21.6)\n",
            "Requirement already satisfied: pandas>=0.15.2 in /usr/local/lib/python3.7/dist-packages (from seaborn==0.9.0) (1.3.5)\n",
            "Requirement already satisfied: python-dateutil>=2.1 in /usr/local/lib/python3.7/dist-packages (from matplotlib>=1.4.3->seaborn==0.9.0) (2.8.2)\n",
            "Requirement already satisfied: cycler>=0.10 in /usr/local/lib/python3.7/dist-packages (from matplotlib>=1.4.3->seaborn==0.9.0) (0.11.0)\n",
            "Requirement already satisfied: pyparsing!=2.0.4,!=2.1.2,!=2.1.6,>=2.0.1 in /usr/local/lib/python3.7/dist-packages (from matplotlib>=1.4.3->seaborn==0.9.0) (3.0.8)\n",
            "Requirement already satisfied: kiwisolver>=1.0.1 in /usr/local/lib/python3.7/dist-packages (from matplotlib>=1.4.3->seaborn==0.9.0) (1.4.2)\n",
            "Requirement already satisfied: typing-extensions in /usr/local/lib/python3.7/dist-packages (from kiwisolver>=1.0.1->matplotlib>=1.4.3->seaborn==0.9.0) (4.2.0)\n",
            "Requirement already satisfied: pytz>=2017.3 in /usr/local/lib/python3.7/dist-packages (from pandas>=0.15.2->seaborn==0.9.0) (2022.1)\n",
            "Requirement already satisfied: six>=1.5 in /usr/local/lib/python3.7/dist-packages (from python-dateutil>=2.1->matplotlib>=1.4.3->seaborn==0.9.0) (1.15.0)\n",
            "Installing collected packages: seaborn\n",
            "  Attempting uninstall: seaborn\n",
            "    Found existing installation: seaborn 0.11.2\n",
            "    Uninstalling seaborn-0.11.2:\n",
            "      Successfully uninstalled seaborn-0.11.2\n",
            "Successfully installed seaborn-0.9.0\n"
          ]
        },
        {
          "output_type": "stream",
          "name": "stderr",
          "text": [
            "/usr/local/lib/python3.7/dist-packages/statsmodels/tools/_testing.py:19: FutureWarning: pandas.util.testing is deprecated. Use the functions in the public API at pandas.testing instead.\n",
            "  import pandas.util.testing as tm\n"
          ]
        }
      ]
    },
    {
      "cell_type": "code",
      "source": [
        "# Distância em km da cidade local de acordo com o Google Maps - ida e volta\n",
        "# Partindo do princípio que a cidade de partida é Guarapari\n",
        "\n",
        "cidades = [['Guarapari', 40], ['Marataizes', 140], ['Anchieta', 60],['Alfredo Chaves', 104], ['Iconha', 102], ['Rio Novo do Sul', 140], ['Vargem Alta', 165], ['Itapemirim', 166\n",
        "], ['Presidente Kenedy', 235], ['Piuma', 85]]\n",
        "\n",
        "df = pd.DataFrame(cidades, columns=['Cidades', 'Km'])\n",
        "df.set_index('Cidades', inplace=True)\n",
        "print(df)"
      ],
      "metadata": {
        "id": "ptJj3Tzt4dsc",
        "colab": {
          "base_uri": "https://localhost:8080/"
        },
        "outputId": "6af4f948-bd5a-4078-d551-9b1d7c5b0a0f"
      },
      "execution_count": 3,
      "outputs": [
        {
          "output_type": "stream",
          "name": "stdout",
          "text": [
            "                    Km\n",
            "Cidades               \n",
            "Guarapari           40\n",
            "Marataizes         140\n",
            "Anchieta            60\n",
            "Alfredo Chaves     104\n",
            "Iconha             102\n",
            "Rio Novo do Sul    140\n",
            "Vargem Alta        165\n",
            "Itapemirim         166\n",
            "Presidente Kenedy  235\n",
            "Piuma               85\n"
          ]
        }
      ]
    },
    {
      "cell_type": "markdown",
      "source": [
        "## Variáveis"
      ],
      "metadata": {
        "id": "s4fwY0us6RbU"
      }
    },
    {
      "cell_type": "code",
      "source": [
        "gasolina = 7.20 #Litro referente à cotação atual - editável -\n",
        "alimentacao = 35 #Alimentação referente à cotação atual - editável -\n",
        "gasto_medio = 13 #Consumo médio do carro - km/h"
      ],
      "metadata": {
        "id": "2Kfqyd5W6TB3"
      },
      "execution_count": 8,
      "outputs": []
    },
    {
      "cell_type": "markdown",
      "source": [
        "## Rotas/Custo Médio"
      ],
      "metadata": {
        "id": "pjbpKpTkA3wA"
      }
    },
    {
      "cell_type": "code",
      "source": [
        "# Criando um for a partir de um dicionário para descobrir o gasto médio necessário para visitação na cidade\n",
        "\n",
        "dic = {'Guarapari': 40, 'Marataizes': 140, 'Anchieta': 60, 'Alfredo Chaves': 104, 'Iconha': 102, 'Rio Novo do Sul': 140, 'Vargem Alta': 165, 'Itapemirim': 166, \n",
        "      'Presidente Kenedy': 235, 'Piúma': 85}\n",
        "dic_media_gasto = []\n",
        "for i, u in dic.items():\n",
        "  dic_media_gasto.append(dic)\n",
        "  if i == 'Guarapari':\n",
        "      print(f'Para trabalhar na rota de {i}, o RCA gastará em média \\033[31mR$ {((u * gasolina) / gasto_medio):.2f}\\033[37m/dia.')\n",
        "  else:\n",
        "      print(f'Para trabalhar na rota de {i}, o RCA gastará em média \\033[31mR${(((u * gasolina) / gasto_medio) + alimentacao):.2f}\\033[37m/dia.')"
      ],
      "metadata": {
        "colab": {
          "base_uri": "https://localhost:8080/"
        },
        "id": "7kBZJKSZEcCx",
        "outputId": "3ce7e01e-c4ab-4883-d9c0-abd79a5cd20f"
      },
      "execution_count": 9,
      "outputs": [
        {
          "output_type": "stream",
          "name": "stdout",
          "text": [
            "Para trabalhar na rota de Guarapari, o RCA gastará em média \u001b[31mR$ 22.15\u001b[37m/dia.\n",
            "Para trabalhar na rota de Marataizes, o RCA gastará em média \u001b[31mR$112.54\u001b[37m/dia.\n",
            "Para trabalhar na rota de Anchieta, o RCA gastará em média \u001b[31mR$68.23\u001b[37m/dia.\n",
            "Para trabalhar na rota de Alfredo Chaves, o RCA gastará em média \u001b[31mR$92.60\u001b[37m/dia.\n",
            "Para trabalhar na rota de Iconha, o RCA gastará em média \u001b[31mR$91.49\u001b[37m/dia.\n",
            "Para trabalhar na rota de Rio Novo do Sul, o RCA gastará em média \u001b[31mR$112.54\u001b[37m/dia.\n",
            "Para trabalhar na rota de Vargem Alta, o RCA gastará em média \u001b[31mR$126.38\u001b[37m/dia.\n",
            "Para trabalhar na rota de Itapemirim, o RCA gastará em média \u001b[31mR$126.94\u001b[37m/dia.\n",
            "Para trabalhar na rota de Presidente Kenedy, o RCA gastará em média \u001b[31mR$165.15\u001b[37m/dia.\n",
            "Para trabalhar na rota de Piúma, o RCA gastará em média \u001b[31mR$82.08\u001b[37m/dia.\n"
          ]
        }
      ]
    },
    {
      "cell_type": "markdown",
      "source": [
        "Considerando que para um melhor aproveitamento da rota, encontramos na logística um grande aliado na economia e junto, otimizar o tempo na visitação. A frequência [hz] de atendimento é quinzenal, sendo assim, há cidade, que, pelo fluxo de venda e distância lógica, não há necessidade de visita semanal."
      ],
      "metadata": {
        "id": "bpuYFmL8d_N0"
      }
    },
    {
      "cell_type": "markdown",
      "source": [
        "# Base de clientes\n",
        "A base de clientes é fornecida para cara representante todo início de cade mês.\n",
        "Neste primeiro momento, o estudo será feito de modo setorial. Vamos ignorar os valores e resultados, focando só nos gastos para uma visitação por cidade."
      ],
      "metadata": {
        "id": "u6p0mGjt3QvH"
      }
    },
    {
      "cell_type": "code",
      "source": [
        "# Abrindo a tabela de clientes\n",
        "\n",
        "tabela_clientes = pd.read_excel('RCA BASE RICARDO2.xlsx')\n",
        "tabela_clientes"
      ],
      "metadata": {
        "colab": {
          "base_uri": "https://localhost:8080/",
          "height": 424
        },
        "id": "-nk_8-fhd-vj",
        "outputId": "18c413f2-bc4c-4e9b-e4fd-29079dda50f1"
      },
      "execution_count": 23,
      "outputs": [
        {
          "output_type": "execute_result",
          "data": {
            "text/plain": [
              "    CÓD    CNPJ RAZÃO SOCIAL     ENDEREÇO  Nº                 BAIRRO  \\\n",
              "0     1   CNPJ1    CLIENTE 1   ENDERECO 1   1         ALFREDO CHAVES   \n",
              "1     2   CNPJ2    CLIENTE 2   ENDERECO 2   2                 CENTRO   \n",
              "2     3   CNPJ3    CLIENTE 3   ENDERECO 3   3                 CENTRO   \n",
              "3     4   CNPJ4    CLIENTE 4   ENDERECO 4   4                 CENTRO   \n",
              "4     5   CNPJ5    CLIENTE 5   ENDERECO 5   5               ALVORADA   \n",
              "..  ...     ...          ...          ...  ..                    ...   \n",
              "84   85  CNPJ85   CLIENTE 85  ENDERECO 85  85                 CENTRO   \n",
              "85   86  CNPJ86   CLIENTE 86  ENDERECO 86  86                 CENTRO   \n",
              "86   87  CNPJ87   CLIENTE 87  ENDERECO 87  87        RIO NOVO DO SUL   \n",
              "87   88  CNPJ88   CLIENTE 88  ENDERECO 88  88        RIO NOVO DO SUL   \n",
              "88   89  CNPJ89   CLIENTE 89  ENDERECO 89  89  SAO JOSE DE FRUTEIRAS   \n",
              "\n",
              "             CIDADE  Coluna1  \n",
              "0    ALFREDO CHAVES      NaN  \n",
              "1    ALFREDO CHAVES      NaN  \n",
              "2    ALFREDO CHAVES      NaN  \n",
              "3    ALFREDO CHAVES      NaN  \n",
              "4          ANCHIETA      NaN  \n",
              "..              ...      ...  \n",
              "84  RIO NOVO DO SUL      NaN  \n",
              "85  RIO NOVO DO SUL      NaN  \n",
              "86  RIO NOVO DO SUL      NaN  \n",
              "87  RIO NOVO DO SUL      NaN  \n",
              "88      VARGEM ALTA  EXCLUIR  \n",
              "\n",
              "[89 rows x 8 columns]"
            ],
            "text/html": [
              "\n",
              "  <div id=\"df-d376b4fd-e687-44ff-9fdf-9305afa423e8\">\n",
              "    <div class=\"colab-df-container\">\n",
              "      <div>\n",
              "<style scoped>\n",
              "    .dataframe tbody tr th:only-of-type {\n",
              "        vertical-align: middle;\n",
              "    }\n",
              "\n",
              "    .dataframe tbody tr th {\n",
              "        vertical-align: top;\n",
              "    }\n",
              "\n",
              "    .dataframe thead th {\n",
              "        text-align: right;\n",
              "    }\n",
              "</style>\n",
              "<table border=\"1\" class=\"dataframe\">\n",
              "  <thead>\n",
              "    <tr style=\"text-align: right;\">\n",
              "      <th></th>\n",
              "      <th>CÓD</th>\n",
              "      <th>CNPJ</th>\n",
              "      <th>RAZÃO SOCIAL</th>\n",
              "      <th>ENDEREÇO</th>\n",
              "      <th>Nº</th>\n",
              "      <th>BAIRRO</th>\n",
              "      <th>CIDADE</th>\n",
              "      <th>Coluna1</th>\n",
              "    </tr>\n",
              "  </thead>\n",
              "  <tbody>\n",
              "    <tr>\n",
              "      <th>0</th>\n",
              "      <td>1</td>\n",
              "      <td>CNPJ1</td>\n",
              "      <td>CLIENTE 1</td>\n",
              "      <td>ENDERECO 1</td>\n",
              "      <td>1</td>\n",
              "      <td>ALFREDO CHAVES</td>\n",
              "      <td>ALFREDO CHAVES</td>\n",
              "      <td>NaN</td>\n",
              "    </tr>\n",
              "    <tr>\n",
              "      <th>1</th>\n",
              "      <td>2</td>\n",
              "      <td>CNPJ2</td>\n",
              "      <td>CLIENTE 2</td>\n",
              "      <td>ENDERECO 2</td>\n",
              "      <td>2</td>\n",
              "      <td>CENTRO</td>\n",
              "      <td>ALFREDO CHAVES</td>\n",
              "      <td>NaN</td>\n",
              "    </tr>\n",
              "    <tr>\n",
              "      <th>2</th>\n",
              "      <td>3</td>\n",
              "      <td>CNPJ3</td>\n",
              "      <td>CLIENTE 3</td>\n",
              "      <td>ENDERECO 3</td>\n",
              "      <td>3</td>\n",
              "      <td>CENTRO</td>\n",
              "      <td>ALFREDO CHAVES</td>\n",
              "      <td>NaN</td>\n",
              "    </tr>\n",
              "    <tr>\n",
              "      <th>3</th>\n",
              "      <td>4</td>\n",
              "      <td>CNPJ4</td>\n",
              "      <td>CLIENTE 4</td>\n",
              "      <td>ENDERECO 4</td>\n",
              "      <td>4</td>\n",
              "      <td>CENTRO</td>\n",
              "      <td>ALFREDO CHAVES</td>\n",
              "      <td>NaN</td>\n",
              "    </tr>\n",
              "    <tr>\n",
              "      <th>4</th>\n",
              "      <td>5</td>\n",
              "      <td>CNPJ5</td>\n",
              "      <td>CLIENTE 5</td>\n",
              "      <td>ENDERECO 5</td>\n",
              "      <td>5</td>\n",
              "      <td>ALVORADA</td>\n",
              "      <td>ANCHIETA</td>\n",
              "      <td>NaN</td>\n",
              "    </tr>\n",
              "    <tr>\n",
              "      <th>...</th>\n",
              "      <td>...</td>\n",
              "      <td>...</td>\n",
              "      <td>...</td>\n",
              "      <td>...</td>\n",
              "      <td>...</td>\n",
              "      <td>...</td>\n",
              "      <td>...</td>\n",
              "      <td>...</td>\n",
              "    </tr>\n",
              "    <tr>\n",
              "      <th>84</th>\n",
              "      <td>85</td>\n",
              "      <td>CNPJ85</td>\n",
              "      <td>CLIENTE 85</td>\n",
              "      <td>ENDERECO 85</td>\n",
              "      <td>85</td>\n",
              "      <td>CENTRO</td>\n",
              "      <td>RIO NOVO DO SUL</td>\n",
              "      <td>NaN</td>\n",
              "    </tr>\n",
              "    <tr>\n",
              "      <th>85</th>\n",
              "      <td>86</td>\n",
              "      <td>CNPJ86</td>\n",
              "      <td>CLIENTE 86</td>\n",
              "      <td>ENDERECO 86</td>\n",
              "      <td>86</td>\n",
              "      <td>CENTRO</td>\n",
              "      <td>RIO NOVO DO SUL</td>\n",
              "      <td>NaN</td>\n",
              "    </tr>\n",
              "    <tr>\n",
              "      <th>86</th>\n",
              "      <td>87</td>\n",
              "      <td>CNPJ87</td>\n",
              "      <td>CLIENTE 87</td>\n",
              "      <td>ENDERECO 87</td>\n",
              "      <td>87</td>\n",
              "      <td>RIO NOVO DO SUL</td>\n",
              "      <td>RIO NOVO DO SUL</td>\n",
              "      <td>NaN</td>\n",
              "    </tr>\n",
              "    <tr>\n",
              "      <th>87</th>\n",
              "      <td>88</td>\n",
              "      <td>CNPJ88</td>\n",
              "      <td>CLIENTE 88</td>\n",
              "      <td>ENDERECO 88</td>\n",
              "      <td>88</td>\n",
              "      <td>RIO NOVO DO SUL</td>\n",
              "      <td>RIO NOVO DO SUL</td>\n",
              "      <td>NaN</td>\n",
              "    </tr>\n",
              "    <tr>\n",
              "      <th>88</th>\n",
              "      <td>89</td>\n",
              "      <td>CNPJ89</td>\n",
              "      <td>CLIENTE 89</td>\n",
              "      <td>ENDERECO 89</td>\n",
              "      <td>89</td>\n",
              "      <td>SAO JOSE DE FRUTEIRAS</td>\n",
              "      <td>VARGEM ALTA</td>\n",
              "      <td>EXCLUIR</td>\n",
              "    </tr>\n",
              "  </tbody>\n",
              "</table>\n",
              "<p>89 rows × 8 columns</p>\n",
              "</div>\n",
              "      <button class=\"colab-df-convert\" onclick=\"convertToInteractive('df-d376b4fd-e687-44ff-9fdf-9305afa423e8')\"\n",
              "              title=\"Convert this dataframe to an interactive table.\"\n",
              "              style=\"display:none;\">\n",
              "        \n",
              "  <svg xmlns=\"http://www.w3.org/2000/svg\" height=\"24px\"viewBox=\"0 0 24 24\"\n",
              "       width=\"24px\">\n",
              "    <path d=\"M0 0h24v24H0V0z\" fill=\"none\"/>\n",
              "    <path d=\"M18.56 5.44l.94 2.06.94-2.06 2.06-.94-2.06-.94-.94-2.06-.94 2.06-2.06.94zm-11 1L8.5 8.5l.94-2.06 2.06-.94-2.06-.94L8.5 2.5l-.94 2.06-2.06.94zm10 10l.94 2.06.94-2.06 2.06-.94-2.06-.94-.94-2.06-.94 2.06-2.06.94z\"/><path d=\"M17.41 7.96l-1.37-1.37c-.4-.4-.92-.59-1.43-.59-.52 0-1.04.2-1.43.59L10.3 9.45l-7.72 7.72c-.78.78-.78 2.05 0 2.83L4 21.41c.39.39.9.59 1.41.59.51 0 1.02-.2 1.41-.59l7.78-7.78 2.81-2.81c.8-.78.8-2.07 0-2.86zM5.41 20L4 18.59l7.72-7.72 1.47 1.35L5.41 20z\"/>\n",
              "  </svg>\n",
              "      </button>\n",
              "      \n",
              "  <style>\n",
              "    .colab-df-container {\n",
              "      display:flex;\n",
              "      flex-wrap:wrap;\n",
              "      gap: 12px;\n",
              "    }\n",
              "\n",
              "    .colab-df-convert {\n",
              "      background-color: #E8F0FE;\n",
              "      border: none;\n",
              "      border-radius: 50%;\n",
              "      cursor: pointer;\n",
              "      display: none;\n",
              "      fill: #1967D2;\n",
              "      height: 32px;\n",
              "      padding: 0 0 0 0;\n",
              "      width: 32px;\n",
              "    }\n",
              "\n",
              "    .colab-df-convert:hover {\n",
              "      background-color: #E2EBFA;\n",
              "      box-shadow: 0px 1px 2px rgba(60, 64, 67, 0.3), 0px 1px 3px 1px rgba(60, 64, 67, 0.15);\n",
              "      fill: #174EA6;\n",
              "    }\n",
              "\n",
              "    [theme=dark] .colab-df-convert {\n",
              "      background-color: #3B4455;\n",
              "      fill: #D2E3FC;\n",
              "    }\n",
              "\n",
              "    [theme=dark] .colab-df-convert:hover {\n",
              "      background-color: #434B5C;\n",
              "      box-shadow: 0px 1px 3px 1px rgba(0, 0, 0, 0.15);\n",
              "      filter: drop-shadow(0px 1px 2px rgba(0, 0, 0, 0.3));\n",
              "      fill: #FFFFFF;\n",
              "    }\n",
              "  </style>\n",
              "\n",
              "      <script>\n",
              "        const buttonEl =\n",
              "          document.querySelector('#df-d376b4fd-e687-44ff-9fdf-9305afa423e8 button.colab-df-convert');\n",
              "        buttonEl.style.display =\n",
              "          google.colab.kernel.accessAllowed ? 'block' : 'none';\n",
              "\n",
              "        async function convertToInteractive(key) {\n",
              "          const element = document.querySelector('#df-d376b4fd-e687-44ff-9fdf-9305afa423e8');\n",
              "          const dataTable =\n",
              "            await google.colab.kernel.invokeFunction('convertToInteractive',\n",
              "                                                     [key], {});\n",
              "          if (!dataTable) return;\n",
              "\n",
              "          const docLinkHtml = 'Like what you see? Visit the ' +\n",
              "            '<a target=\"_blank\" href=https://colab.research.google.com/notebooks/data_table.ipynb>data table notebook</a>'\n",
              "            + ' to learn more about interactive tables.';\n",
              "          element.innerHTML = '';\n",
              "          dataTable['output_type'] = 'display_data';\n",
              "          await google.colab.output.renderOutput(dataTable, element);\n",
              "          const docLink = document.createElement('div');\n",
              "          docLink.innerHTML = docLinkHtml;\n",
              "          element.appendChild(docLink);\n",
              "        }\n",
              "      </script>\n",
              "    </div>\n",
              "  </div>\n",
              "  "
            ]
          },
          "metadata": {},
          "execution_count": 23
        }
      ]
    },
    {
      "cell_type": "code",
      "source": [
        "# Renomeando a coluna para melhorar a identificação \n",
        "\n",
        "renomear = {'CÓD' : 'cod',\n",
        "            'CNPJ' : 'CNPJ',\n",
        "            'RAZÃO SOCIAL' : 'razao_social',\n",
        "            'ENDEREÇO' : 'endereco',\n",
        "            'Nº' : 'nº',\n",
        "            'BAIRRO' : 'bairro',\n",
        "            'CIDADE': 'cidade',\n",
        "       'Coluna1' : 'coluna1'} \n",
        "\n",
        "tabela_clientes = tabela_clientes.rename(columns = renomear)"
      ],
      "metadata": {
        "id": "TW3ls2ogsPls"
      },
      "execution_count": 24,
      "outputs": []
    },
    {
      "cell_type": "code",
      "source": [
        "# Excluindo a coluna1, desnecessária para nossa análise\n",
        "# Usando o código como index\n",
        "\n",
        "tabela_clientes = tabela_clientes.drop(columns=['coluna1'])\n",
        "tabela_clientes.set_index('cod', inplace=True)\n",
        "tabela_clientes.head(5)"
      ],
      "metadata": {
        "colab": {
          "base_uri": "https://localhost:8080/",
          "height": 238
        },
        "id": "nVB6saIJs-Ae",
        "outputId": "7875ea09-43e5-4b94-8905-ab00f4d455ec"
      },
      "execution_count": 25,
      "outputs": [
        {
          "output_type": "execute_result",
          "data": {
            "text/plain": [
              "      CNPJ razao_social    endereco  nº          bairro          cidade\n",
              "cod                                                                    \n",
              "1    CNPJ1    CLIENTE 1  ENDERECO 1   1  ALFREDO CHAVES  ALFREDO CHAVES\n",
              "2    CNPJ2    CLIENTE 2  ENDERECO 2   2          CENTRO  ALFREDO CHAVES\n",
              "3    CNPJ3    CLIENTE 3  ENDERECO 3   3          CENTRO  ALFREDO CHAVES\n",
              "4    CNPJ4    CLIENTE 4  ENDERECO 4   4          CENTRO  ALFREDO CHAVES\n",
              "5    CNPJ5    CLIENTE 5  ENDERECO 5   5        ALVORADA        ANCHIETA"
            ],
            "text/html": [
              "\n",
              "  <div id=\"df-79fd756f-2003-47a8-ab6b-c2d784c1266d\">\n",
              "    <div class=\"colab-df-container\">\n",
              "      <div>\n",
              "<style scoped>\n",
              "    .dataframe tbody tr th:only-of-type {\n",
              "        vertical-align: middle;\n",
              "    }\n",
              "\n",
              "    .dataframe tbody tr th {\n",
              "        vertical-align: top;\n",
              "    }\n",
              "\n",
              "    .dataframe thead th {\n",
              "        text-align: right;\n",
              "    }\n",
              "</style>\n",
              "<table border=\"1\" class=\"dataframe\">\n",
              "  <thead>\n",
              "    <tr style=\"text-align: right;\">\n",
              "      <th></th>\n",
              "      <th>CNPJ</th>\n",
              "      <th>razao_social</th>\n",
              "      <th>endereco</th>\n",
              "      <th>nº</th>\n",
              "      <th>bairro</th>\n",
              "      <th>cidade</th>\n",
              "    </tr>\n",
              "    <tr>\n",
              "      <th>cod</th>\n",
              "      <th></th>\n",
              "      <th></th>\n",
              "      <th></th>\n",
              "      <th></th>\n",
              "      <th></th>\n",
              "      <th></th>\n",
              "    </tr>\n",
              "  </thead>\n",
              "  <tbody>\n",
              "    <tr>\n",
              "      <th>1</th>\n",
              "      <td>CNPJ1</td>\n",
              "      <td>CLIENTE 1</td>\n",
              "      <td>ENDERECO 1</td>\n",
              "      <td>1</td>\n",
              "      <td>ALFREDO CHAVES</td>\n",
              "      <td>ALFREDO CHAVES</td>\n",
              "    </tr>\n",
              "    <tr>\n",
              "      <th>2</th>\n",
              "      <td>CNPJ2</td>\n",
              "      <td>CLIENTE 2</td>\n",
              "      <td>ENDERECO 2</td>\n",
              "      <td>2</td>\n",
              "      <td>CENTRO</td>\n",
              "      <td>ALFREDO CHAVES</td>\n",
              "    </tr>\n",
              "    <tr>\n",
              "      <th>3</th>\n",
              "      <td>CNPJ3</td>\n",
              "      <td>CLIENTE 3</td>\n",
              "      <td>ENDERECO 3</td>\n",
              "      <td>3</td>\n",
              "      <td>CENTRO</td>\n",
              "      <td>ALFREDO CHAVES</td>\n",
              "    </tr>\n",
              "    <tr>\n",
              "      <th>4</th>\n",
              "      <td>CNPJ4</td>\n",
              "      <td>CLIENTE 4</td>\n",
              "      <td>ENDERECO 4</td>\n",
              "      <td>4</td>\n",
              "      <td>CENTRO</td>\n",
              "      <td>ALFREDO CHAVES</td>\n",
              "    </tr>\n",
              "    <tr>\n",
              "      <th>5</th>\n",
              "      <td>CNPJ5</td>\n",
              "      <td>CLIENTE 5</td>\n",
              "      <td>ENDERECO 5</td>\n",
              "      <td>5</td>\n",
              "      <td>ALVORADA</td>\n",
              "      <td>ANCHIETA</td>\n",
              "    </tr>\n",
              "  </tbody>\n",
              "</table>\n",
              "</div>\n",
              "      <button class=\"colab-df-convert\" onclick=\"convertToInteractive('df-79fd756f-2003-47a8-ab6b-c2d784c1266d')\"\n",
              "              title=\"Convert this dataframe to an interactive table.\"\n",
              "              style=\"display:none;\">\n",
              "        \n",
              "  <svg xmlns=\"http://www.w3.org/2000/svg\" height=\"24px\"viewBox=\"0 0 24 24\"\n",
              "       width=\"24px\">\n",
              "    <path d=\"M0 0h24v24H0V0z\" fill=\"none\"/>\n",
              "    <path d=\"M18.56 5.44l.94 2.06.94-2.06 2.06-.94-2.06-.94-.94-2.06-.94 2.06-2.06.94zm-11 1L8.5 8.5l.94-2.06 2.06-.94-2.06-.94L8.5 2.5l-.94 2.06-2.06.94zm10 10l.94 2.06.94-2.06 2.06-.94-2.06-.94-.94-2.06-.94 2.06-2.06.94z\"/><path d=\"M17.41 7.96l-1.37-1.37c-.4-.4-.92-.59-1.43-.59-.52 0-1.04.2-1.43.59L10.3 9.45l-7.72 7.72c-.78.78-.78 2.05 0 2.83L4 21.41c.39.39.9.59 1.41.59.51 0 1.02-.2 1.41-.59l7.78-7.78 2.81-2.81c.8-.78.8-2.07 0-2.86zM5.41 20L4 18.59l7.72-7.72 1.47 1.35L5.41 20z\"/>\n",
              "  </svg>\n",
              "      </button>\n",
              "      \n",
              "  <style>\n",
              "    .colab-df-container {\n",
              "      display:flex;\n",
              "      flex-wrap:wrap;\n",
              "      gap: 12px;\n",
              "    }\n",
              "\n",
              "    .colab-df-convert {\n",
              "      background-color: #E8F0FE;\n",
              "      border: none;\n",
              "      border-radius: 50%;\n",
              "      cursor: pointer;\n",
              "      display: none;\n",
              "      fill: #1967D2;\n",
              "      height: 32px;\n",
              "      padding: 0 0 0 0;\n",
              "      width: 32px;\n",
              "    }\n",
              "\n",
              "    .colab-df-convert:hover {\n",
              "      background-color: #E2EBFA;\n",
              "      box-shadow: 0px 1px 2px rgba(60, 64, 67, 0.3), 0px 1px 3px 1px rgba(60, 64, 67, 0.15);\n",
              "      fill: #174EA6;\n",
              "    }\n",
              "\n",
              "    [theme=dark] .colab-df-convert {\n",
              "      background-color: #3B4455;\n",
              "      fill: #D2E3FC;\n",
              "    }\n",
              "\n",
              "    [theme=dark] .colab-df-convert:hover {\n",
              "      background-color: #434B5C;\n",
              "      box-shadow: 0px 1px 3px 1px rgba(0, 0, 0, 0.15);\n",
              "      filter: drop-shadow(0px 1px 2px rgba(0, 0, 0, 0.3));\n",
              "      fill: #FFFFFF;\n",
              "    }\n",
              "  </style>\n",
              "\n",
              "      <script>\n",
              "        const buttonEl =\n",
              "          document.querySelector('#df-79fd756f-2003-47a8-ab6b-c2d784c1266d button.colab-df-convert');\n",
              "        buttonEl.style.display =\n",
              "          google.colab.kernel.accessAllowed ? 'block' : 'none';\n",
              "\n",
              "        async function convertToInteractive(key) {\n",
              "          const element = document.querySelector('#df-79fd756f-2003-47a8-ab6b-c2d784c1266d');\n",
              "          const dataTable =\n",
              "            await google.colab.kernel.invokeFunction('convertToInteractive',\n",
              "                                                     [key], {});\n",
              "          if (!dataTable) return;\n",
              "\n",
              "          const docLinkHtml = 'Like what you see? Visit the ' +\n",
              "            '<a target=\"_blank\" href=https://colab.research.google.com/notebooks/data_table.ipynb>data table notebook</a>'\n",
              "            + ' to learn more about interactive tables.';\n",
              "          element.innerHTML = '';\n",
              "          dataTable['output_type'] = 'display_data';\n",
              "          await google.colab.output.renderOutput(dataTable, element);\n",
              "          const docLink = document.createElement('div');\n",
              "          docLink.innerHTML = docLinkHtml;\n",
              "          element.appendChild(docLink);\n",
              "        }\n",
              "      </script>\n",
              "    </div>\n",
              "  </div>\n",
              "  "
            ]
          },
          "metadata": {},
          "execution_count": 25
        }
      ]
    },
    {
      "cell_type": "code",
      "source": [
        "# Número de clientes por cidade\n",
        "\n",
        "tabela_clientes['cidade'].value_counts()"
      ],
      "metadata": {
        "colab": {
          "base_uri": "https://localhost:8080/"
        },
        "id": "qQgY8v3BzfEX",
        "outputId": "616a2fcc-46bd-4607-8c24-1ced8cd3aded"
      },
      "execution_count": 26,
      "outputs": [
        {
          "output_type": "execute_result",
          "data": {
            "text/plain": [
              "GUARAPARI             32\n",
              "ITAPEMIRIM            12\n",
              "ANCHIETA              10\n",
              "MARATAIZES             8\n",
              "RIO NOVO DO SUL        7\n",
              "ALFREDO CHAVES         4\n",
              "ICONHA                 4\n",
              "MARATAÍZES             4\n",
              "PIUMA                  3\n",
              "PIÚMA                  3\n",
              "PRESIDENTE KENNEDY     1\n",
              "VARGEM ALTA            1\n",
              "Name: cidade, dtype: int64"
            ]
          },
          "metadata": {},
          "execution_count": 26
        }
      ]
    },
    {
      "cell_type": "code",
      "source": [
        "# Igualando nomes das cidades\n",
        "\n",
        "tabela_clientes.replace({'MARATAIZES' : 'MARATAÍZES', 'PIUMA': 'PIÚMA'}, inplace=True)\n",
        "tabela_clientes['cidade'].value_counts()"
      ],
      "metadata": {
        "colab": {
          "base_uri": "https://localhost:8080/"
        },
        "id": "S6ZqOh290Tv1",
        "outputId": "4419e0bb-8b1c-4acc-944d-c8c15a42a385"
      },
      "execution_count": 27,
      "outputs": [
        {
          "output_type": "execute_result",
          "data": {
            "text/plain": [
              "GUARAPARI             32\n",
              "ITAPEMIRIM            12\n",
              "MARATAÍZES            12\n",
              "ANCHIETA              10\n",
              "RIO NOVO DO SUL        7\n",
              "PIÚMA                  6\n",
              "ALFREDO CHAVES         4\n",
              "ICONHA                 4\n",
              "PRESIDENTE KENNEDY     1\n",
              "VARGEM ALTA            1\n",
              "Name: cidade, dtype: int64"
            ]
          },
          "metadata": {},
          "execution_count": 27
        }
      ]
    },
    {
      "cell_type": "code",
      "source": [
        "# Criando um gráfico no Matplotlib representando a quantidade de clientes por cidade\n",
        "\n",
        "clientes_base = ['Guarapari', 'Marataízes', 'Anchieta', 'Alfredo Chaves', 'Iconha', 'Rio Novo do Sul', 'Piúma', 'Vargem Alta', 'Itapemirim', 'Presidente Kenedy']\n",
        "quantidade_base = [32, 12, 10, 4, 4, 7, 6, 1, 12, 1]\n",
        "\n",
        "plt.figure(figsize=(18,5))\n",
        "plt.ylabel('Clientes', color = 'blue')\n",
        "plt.xlabel('Cidades', color = 'blue')\n",
        "plt.bar(clientes_base, quantidade_base)\n"
      ],
      "metadata": {
        "colab": {
          "base_uri": "https://localhost:8080/",
          "height": 351
        },
        "id": "T0dpM64a7Hx-",
        "outputId": "88f8833f-c46b-44da-c1ac-0bbd05341406"
      },
      "execution_count": 28,
      "outputs": [
        {
          "output_type": "execute_result",
          "data": {
            "text/plain": [
              "<BarContainer object of 10 artists>"
            ]
          },
          "metadata": {},
          "execution_count": 28
        },
        {
          "output_type": "display_data",
          "data": {
            "text/plain": [
              "<Figure size 1296x360 with 1 Axes>"
            ],
            "image/png": "[encoded data removed]"
          },
          "metadata": {
            "needs_background": "light"
          }
        }
      ]
    },
    {
      "cell_type": "markdown",
      "source": [
        "Neste gráfico, conseguimos reparar a participação massiva do setor de Guarapari no litoral relacionado a PDV."
      ],
      "metadata": {
        "id": "FxVlJ59_llfM"
      }
    },
    {
      "cell_type": "markdown",
      "source": [
        "#Frequência de visitação quinzenal\n",
        "De modo manual, eu escolhi, atender algumas cidades por preferência. Os motivos relacionam 'faturamento', 'necessidade' e 'logistica'. Como um exemplo, Marataízes por ser uma cidade muito procurada por todos RCA, o foco permanece no primeiro dia da semana e por questões lógicas, tentamos conciliar com cidades próximas para reduzir o custo."
      ],
      "metadata": {
        "id": "p5zl8wORB_Ae"
      }
    },
    {
      "cell_type": "code",
      "source": [
        "# Determinando, de forma manual, a preferência por atendimento, visando volume de vendas\n",
        "\n",
        "frequencia_quinzenal = [4, 2, 2, 1, 2 , 2, 1, 1, 1]\n",
        "dias_da_semana = ['segunda', 'terça', 'quarta', 'quinta', 'sexta']\n",
        "hz = {'Cidades': ['Guarapari', 'Marataízes', 'Anchieta', 'Alfredo Chaves', 'Iconha', 'Piuma', 'Rio Novo do Sul', 'Vargem Alta', 'Itapemirim', 'Presidente Kenedy'], \n",
        "      'Frequência_Quinzenal': [4, 2, 2, 1, 2 , 2, 1, 1, 1, 1]}\n",
        "df = pd.DataFrame(data = hz)\n",
        "df.set_index('Cidades', inplace=True)\n",
        "df"
      ],
      "metadata": {
        "id": "v2SZDgj9CBQS",
        "colab": {
          "base_uri": "https://localhost:8080/",
          "height": 394
        },
        "outputId": "0df2f366-e65e-4b14-cda8-8aa3fa178049"
      },
      "execution_count": 31,
      "outputs": [
        {
          "output_type": "execute_result",
          "data": {
            "text/plain": [
              "                   Frequência_Quinzenal\n",
              "Cidades                                \n",
              "Guarapari                             4\n",
              "Marataízes                            2\n",
              "Anchieta                              2\n",
              "Alfredo Chaves                        1\n",
              "Iconha                                2\n",
              "Piuma                                 2\n",
              "Rio Novo do Sul                       1\n",
              "Vargem Alta                           1\n",
              "Itapemirim                            1\n",
              "Presidente Kenedy                     1"
            ],
            "text/html": [
              "\n",
              "  <div id=\"df-9c34c8a8-7397-4db3-ae86-cedd75c53968\">\n",
              "    <div class=\"colab-df-container\">\n",
              "      <div>\n",
              "<style scoped>\n",
              "    .dataframe tbody tr th:only-of-type {\n",
              "        vertical-align: middle;\n",
              "    }\n",
              "\n",
              "    .dataframe tbody tr th {\n",
              "        vertical-align: top;\n",
              "    }\n",
              "\n",
              "    .dataframe thead th {\n",
              "        text-align: right;\n",
              "    }\n",
              "</style>\n",
              "<table border=\"1\" class=\"dataframe\">\n",
              "  <thead>\n",
              "    <tr style=\"text-align: right;\">\n",
              "      <th></th>\n",
              "      <th>Frequência_Quinzenal</th>\n",
              "    </tr>\n",
              "    <tr>\n",
              "      <th>Cidades</th>\n",
              "      <th></th>\n",
              "    </tr>\n",
              "  </thead>\n",
              "  <tbody>\n",
              "    <tr>\n",
              "      <th>Guarapari</th>\n",
              "      <td>4</td>\n",
              "    </tr>\n",
              "    <tr>\n",
              "      <th>Marataízes</th>\n",
              "      <td>2</td>\n",
              "    </tr>\n",
              "    <tr>\n",
              "      <th>Anchieta</th>\n",
              "      <td>2</td>\n",
              "    </tr>\n",
              "    <tr>\n",
              "      <th>Alfredo Chaves</th>\n",
              "      <td>1</td>\n",
              "    </tr>\n",
              "    <tr>\n",
              "      <th>Iconha</th>\n",
              "      <td>2</td>\n",
              "    </tr>\n",
              "    <tr>\n",
              "      <th>Piuma</th>\n",
              "      <td>2</td>\n",
              "    </tr>\n",
              "    <tr>\n",
              "      <th>Rio Novo do Sul</th>\n",
              "      <td>1</td>\n",
              "    </tr>\n",
              "    <tr>\n",
              "      <th>Vargem Alta</th>\n",
              "      <td>1</td>\n",
              "    </tr>\n",
              "    <tr>\n",
              "      <th>Itapemirim</th>\n",
              "      <td>1</td>\n",
              "    </tr>\n",
              "    <tr>\n",
              "      <th>Presidente Kenedy</th>\n",
              "      <td>1</td>\n",
              "    </tr>\n",
              "  </tbody>\n",
              "</table>\n",
              "</div>\n",
              "      <button class=\"colab-df-convert\" onclick=\"convertToInteractive('df-9c34c8a8-7397-4db3-ae86-cedd75c53968')\"\n",
              "              title=\"Convert this dataframe to an interactive table.\"\n",
              "              style=\"display:none;\">\n",
              "        \n",
              "  <svg xmlns=\"http://www.w3.org/2000/svg\" height=\"24px\"viewBox=\"0 0 24 24\"\n",
              "       width=\"24px\">\n",
              "    <path d=\"M0 0h24v24H0V0z\" fill=\"none\"/>\n",
              "    <path d=\"M18.56 5.44l.94 2.06.94-2.06 2.06-.94-2.06-.94-.94-2.06-.94 2.06-2.06.94zm-11 1L8.5 8.5l.94-2.06 2.06-.94-2.06-.94L8.5 2.5l-.94 2.06-2.06.94zm10 10l.94 2.06.94-2.06 2.06-.94-2.06-.94-.94-2.06-.94 2.06-2.06.94z\"/><path d=\"M17.41 7.96l-1.37-1.37c-.4-.4-.92-.59-1.43-.59-.52 0-1.04.2-1.43.59L10.3 9.45l-7.72 7.72c-.78.78-.78 2.05 0 2.83L4 21.41c.39.39.9.59 1.41.59.51 0 1.02-.2 1.41-.59l7.78-7.78 2.81-2.81c.8-.78.8-2.07 0-2.86zM5.41 20L4 18.59l7.72-7.72 1.47 1.35L5.41 20z\"/>\n",
              "  </svg>\n",
              "      </button>\n",
              "      \n",
              "  <style>\n",
              "    .colab-df-container {\n",
              "      display:flex;\n",
              "      flex-wrap:wrap;\n",
              "      gap: 12px;\n",
              "    }\n",
              "\n",
              "    .colab-df-convert {\n",
              "      background-color: #E8F0FE;\n",
              "      border: none;\n",
              "      border-radius: 50%;\n",
              "      cursor: pointer;\n",
              "      display: none;\n",
              "      fill: #1967D2;\n",
              "      height: 32px;\n",
              "      padding: 0 0 0 0;\n",
              "      width: 32px;\n",
              "    }\n",
              "\n",
              "    .colab-df-convert:hover {\n",
              "      background-color: #E2EBFA;\n",
              "      box-shadow: 0px 1px 2px rgba(60, 64, 67, 0.3), 0px 1px 3px 1px rgba(60, 64, 67, 0.15);\n",
              "      fill: #174EA6;\n",
              "    }\n",
              "\n",
              "    [theme=dark] .colab-df-convert {\n",
              "      background-color: #3B4455;\n",
              "      fill: #D2E3FC;\n",
              "    }\n",
              "\n",
              "    [theme=dark] .colab-df-convert:hover {\n",
              "      background-color: #434B5C;\n",
              "      box-shadow: 0px 1px 3px 1px rgba(0, 0, 0, 0.15);\n",
              "      filter: drop-shadow(0px 1px 2px rgba(0, 0, 0, 0.3));\n",
              "      fill: #FFFFFF;\n",
              "    }\n",
              "  </style>\n",
              "\n",
              "      <script>\n",
              "        const buttonEl =\n",
              "          document.querySelector('#df-9c34c8a8-7397-4db3-ae86-cedd75c53968 button.colab-df-convert');\n",
              "        buttonEl.style.display =\n",
              "          google.colab.kernel.accessAllowed ? 'block' : 'none';\n",
              "\n",
              "        async function convertToInteractive(key) {\n",
              "          const element = document.querySelector('#df-9c34c8a8-7397-4db3-ae86-cedd75c53968');\n",
              "          const dataTable =\n",
              "            await google.colab.kernel.invokeFunction('convertToInteractive',\n",
              "                                                     [key], {});\n",
              "          if (!dataTable) return;\n",
              "\n",
              "          const docLinkHtml = 'Like what you see? Visit the ' +\n",
              "            '<a target=\"_blank\" href=https://colab.research.google.com/notebooks/data_table.ipynb>data table notebook</a>'\n",
              "            + ' to learn more about interactive tables.';\n",
              "          element.innerHTML = '';\n",
              "          dataTable['output_type'] = 'display_data';\n",
              "          await google.colab.output.renderOutput(dataTable, element);\n",
              "          const docLink = document.createElement('div');\n",
              "          docLink.innerHTML = docLinkHtml;\n",
              "          element.appendChild(docLink);\n",
              "        }\n",
              "      </script>\n",
              "    </div>\n",
              "  </div>\n",
              "  "
            ]
          },
          "metadata": {},
          "execution_count": 31
        }
      ]
    },
    {
      "cell_type": "markdown",
      "source": [
        "PRIMEIRA SEMANA"
      ],
      "metadata": {
        "id": "YvkgvJfVERo3"
      }
    },
    {
      "cell_type": "code",
      "source": [
        "# Conforme a visitação é quinzenal, por escolha, determino as cidades da primeira semana\n",
        "# Os gastos estão atrelados ao estudo de custo iniciado no início do projeto\n",
        "\n",
        "ds = {'Cidades': ['Marataízes/Itapemirim', 'Anchieta/Piúma', 'Iconha/Rio Novo do sul', 'Guarapari', 'Guarapari'], \n",
        "      'Atendimento' : ['segunda', 'terça', 'quarta', 'quinta', 'sexta'], 'Gasto' : [126.94, 82.08, 112.54, 22.15, 22.15]}\n",
        "ds = pd.DataFrame(data=ds)\n",
        "ds.set_index('Cidades', inplace = True)\n",
        "ds"
      ],
      "metadata": {
        "colab": {
          "base_uri": "https://localhost:8080/",
          "height": 238
        },
        "id": "IGEs24VRQziY",
        "outputId": "4e41f93e-4fca-4bd3-a0a9-664649ca625a"
      },
      "execution_count": 32,
      "outputs": [
        {
          "output_type": "execute_result",
          "data": {
            "text/plain": [
              "                       Atendimento   Gasto\n",
              "Cidades                                   \n",
              "Marataízes/Itapemirim      segunda  126.94\n",
              "Anchieta/Piúma               terça   82.08\n",
              "Iconha/Rio Novo do sul      quarta  112.54\n",
              "Guarapari                   quinta   22.15\n",
              "Guarapari                    sexta   22.15"
            ],
            "text/html": [
              "\n",
              "  <div id=\"df-3568ab62-4303-4444-aaaa-95d148add9b7\">\n",
              "    <div class=\"colab-df-container\">\n",
              "      <div>\n",
              "<style scoped>\n",
              "    .dataframe tbody tr th:only-of-type {\n",
              "        vertical-align: middle;\n",
              "    }\n",
              "\n",
              "    .dataframe tbody tr th {\n",
              "        vertical-align: top;\n",
              "    }\n",
              "\n",
              "    .dataframe thead th {\n",
              "        text-align: right;\n",
              "    }\n",
              "</style>\n",
              "<table border=\"1\" class=\"dataframe\">\n",
              "  <thead>\n",
              "    <tr style=\"text-align: right;\">\n",
              "      <th></th>\n",
              "      <th>Atendimento</th>\n",
              "      <th>Gasto</th>\n",
              "    </tr>\n",
              "    <tr>\n",
              "      <th>Cidades</th>\n",
              "      <th></th>\n",
              "      <th></th>\n",
              "    </tr>\n",
              "  </thead>\n",
              "  <tbody>\n",
              "    <tr>\n",
              "      <th>Marataízes/Itapemirim</th>\n",
              "      <td>segunda</td>\n",
              "      <td>126.94</td>\n",
              "    </tr>\n",
              "    <tr>\n",
              "      <th>Anchieta/Piúma</th>\n",
              "      <td>terça</td>\n",
              "      <td>82.08</td>\n",
              "    </tr>\n",
              "    <tr>\n",
              "      <th>Iconha/Rio Novo do sul</th>\n",
              "      <td>quarta</td>\n",
              "      <td>112.54</td>\n",
              "    </tr>\n",
              "    <tr>\n",
              "      <th>Guarapari</th>\n",
              "      <td>quinta</td>\n",
              "      <td>22.15</td>\n",
              "    </tr>\n",
              "    <tr>\n",
              "      <th>Guarapari</th>\n",
              "      <td>sexta</td>\n",
              "      <td>22.15</td>\n",
              "    </tr>\n",
              "  </tbody>\n",
              "</table>\n",
              "</div>\n",
              "      <button class=\"colab-df-convert\" onclick=\"convertToInteractive('df-3568ab62-4303-4444-aaaa-95d148add9b7')\"\n",
              "              title=\"Convert this dataframe to an interactive table.\"\n",
              "              style=\"display:none;\">\n",
              "        \n",
              "  <svg xmlns=\"http://www.w3.org/2000/svg\" height=\"24px\"viewBox=\"0 0 24 24\"\n",
              "       width=\"24px\">\n",
              "    <path d=\"M0 0h24v24H0V0z\" fill=\"none\"/>\n",
              "    <path d=\"M18.56 5.44l.94 2.06.94-2.06 2.06-.94-2.06-.94-.94-2.06-.94 2.06-2.06.94zm-11 1L8.5 8.5l.94-2.06 2.06-.94-2.06-.94L8.5 2.5l-.94 2.06-2.06.94zm10 10l.94 2.06.94-2.06 2.06-.94-2.06-.94-.94-2.06-.94 2.06-2.06.94z\"/><path d=\"M17.41 7.96l-1.37-1.37c-.4-.4-.92-.59-1.43-.59-.52 0-1.04.2-1.43.59L10.3 9.45l-7.72 7.72c-.78.78-.78 2.05 0 2.83L4 21.41c.39.39.9.59 1.41.59.51 0 1.02-.2 1.41-.59l7.78-7.78 2.81-2.81c.8-.78.8-2.07 0-2.86zM5.41 20L4 18.59l7.72-7.72 1.47 1.35L5.41 20z\"/>\n",
              "  </svg>\n",
              "      </button>\n",
              "      \n",
              "  <style>\n",
              "    .colab-df-container {\n",
              "      display:flex;\n",
              "      flex-wrap:wrap;\n",
              "      gap: 12px;\n",
              "    }\n",
              "\n",
              "    .colab-df-convert {\n",
              "      background-color: #E8F0FE;\n",
              "      border: none;\n",
              "      border-radius: 50%;\n",
              "      cursor: pointer;\n",
              "      display: none;\n",
              "      fill: #1967D2;\n",
              "      height: 32px;\n",
              "      padding: 0 0 0 0;\n",
              "      width: 32px;\n",
              "    }\n",
              "\n",
              "    .colab-df-convert:hover {\n",
              "      background-color: #E2EBFA;\n",
              "      box-shadow: 0px 1px 2px rgba(60, 64, 67, 0.3), 0px 1px 3px 1px rgba(60, 64, 67, 0.15);\n",
              "      fill: #174EA6;\n",
              "    }\n",
              "\n",
              "    [theme=dark] .colab-df-convert {\n",
              "      background-color: #3B4455;\n",
              "      fill: #D2E3FC;\n",
              "    }\n",
              "\n",
              "    [theme=dark] .colab-df-convert:hover {\n",
              "      background-color: #434B5C;\n",
              "      box-shadow: 0px 1px 3px 1px rgba(0, 0, 0, 0.15);\n",
              "      filter: drop-shadow(0px 1px 2px rgba(0, 0, 0, 0.3));\n",
              "      fill: #FFFFFF;\n",
              "    }\n",
              "  </style>\n",
              "\n",
              "      <script>\n",
              "        const buttonEl =\n",
              "          document.querySelector('#df-3568ab62-4303-4444-aaaa-95d148add9b7 button.colab-df-convert');\n",
              "        buttonEl.style.display =\n",
              "          google.colab.kernel.accessAllowed ? 'block' : 'none';\n",
              "\n",
              "        async function convertToInteractive(key) {\n",
              "          const element = document.querySelector('#df-3568ab62-4303-4444-aaaa-95d148add9b7');\n",
              "          const dataTable =\n",
              "            await google.colab.kernel.invokeFunction('convertToInteractive',\n",
              "                                                     [key], {});\n",
              "          if (!dataTable) return;\n",
              "\n",
              "          const docLinkHtml = 'Like what you see? Visit the ' +\n",
              "            '<a target=\"_blank\" href=https://colab.research.google.com/notebooks/data_table.ipynb>data table notebook</a>'\n",
              "            + ' to learn more about interactive tables.';\n",
              "          element.innerHTML = '';\n",
              "          dataTable['output_type'] = 'display_data';\n",
              "          await google.colab.output.renderOutput(dataTable, element);\n",
              "          const docLink = document.createElement('div');\n",
              "          docLink.innerHTML = docLinkHtml;\n",
              "          element.appendChild(docLink);\n",
              "        }\n",
              "      </script>\n",
              "    </div>\n",
              "  </div>\n",
              "  "
            ]
          },
          "metadata": {},
          "execution_count": 32
        }
      ]
    },
    {
      "cell_type": "code",
      "source": [
        "# Print gasto da primeira semana\n",
        "\n",
        "total_1 = ds.Gasto.sum().round(2)\n",
        "print(f' Na primeira semana, serão gastos R$ {total_1}.')"
      ],
      "metadata": {
        "id": "2Eyq-CaTTRSm",
        "colab": {
          "base_uri": "https://localhost:8080/"
        },
        "outputId": "a17c8a22-db7d-4915-87d6-3b36a6188af4"
      },
      "execution_count": 35,
      "outputs": [
        {
          "output_type": "stream",
          "name": "stdout",
          "text": [
            " Na primeira semana, serão gastos R$ 365.86.\n"
          ]
        }
      ]
    },
    {
      "cell_type": "markdown",
      "source": [
        "SEGUNDA SEMANA"
      ],
      "metadata": {
        "id": "_NdYn0TdT_18"
      }
    },
    {
      "cell_type": "code",
      "source": [
        "# Conforme a visitação é quinzenal, por escolha, determino as cidades da segunda semana\n",
        "# Os gastos estão atrelados ao estudo de custo iniciado no início do projeto\n",
        "\n",
        "ss = {'Cidades': ['Marataízes/Presidente Kennedy', 'Anchieta/Piúma', 'Iconha/Alfredo Chaves', 'Guarapari', 'Guarapari'], \n",
        "      'Atendimento' : ['segunda', 'terça', 'quarta', 'quinta', 'sexta'], 'Gasto' : [165.15, 82.08, 92.60, 22.15, 22.15]}\n",
        "ss = pd.DataFrame(data=ss)\n",
        "ss.set_index('Cidades', inplace = True)\n",
        "ss"
      ],
      "metadata": {
        "colab": {
          "base_uri": "https://localhost:8080/",
          "height": 238
        },
        "id": "-h0CubX6UAnJ",
        "outputId": "86b33680-0ece-44a2-9bbd-2f1524c5c201"
      },
      "execution_count": 33,
      "outputs": [
        {
          "output_type": "execute_result",
          "data": {
            "text/plain": [
              "                              Atendimento   Gasto\n",
              "Cidades                                          \n",
              "Marataízes/Presidente Kennedy     segunda  165.15\n",
              "Anchieta/Piúma                      terça   82.08\n",
              "Iconha/Alfredo Chaves              quarta   92.60\n",
              "Guarapari                          quinta   22.15\n",
              "Guarapari                           sexta   22.15"
            ],
            "text/html": [
              "\n",
              "  <div id=\"df-c62f7727-1c26-4886-a31a-1075c80a9a88\">\n",
              "    <div class=\"colab-df-container\">\n",
              "      <div>\n",
              "<style scoped>\n",
              "    .dataframe tbody tr th:only-of-type {\n",
              "        vertical-align: middle;\n",
              "    }\n",
              "\n",
              "    .dataframe tbody tr th {\n",
              "        vertical-align: top;\n",
              "    }\n",
              "\n",
              "    .dataframe thead th {\n",
              "        text-align: right;\n",
              "    }\n",
              "</style>\n",
              "<table border=\"1\" class=\"dataframe\">\n",
              "  <thead>\n",
              "    <tr style=\"text-align: right;\">\n",
              "      <th></th>\n",
              "      <th>Atendimento</th>\n",
              "      <th>Gasto</th>\n",
              "    </tr>\n",
              "    <tr>\n",
              "      <th>Cidades</th>\n",
              "      <th></th>\n",
              "      <th></th>\n",
              "    </tr>\n",
              "  </thead>\n",
              "  <tbody>\n",
              "    <tr>\n",
              "      <th>Marataízes/Presidente Kennedy</th>\n",
              "      <td>segunda</td>\n",
              "      <td>165.15</td>\n",
              "    </tr>\n",
              "    <tr>\n",
              "      <th>Anchieta/Piúma</th>\n",
              "      <td>terça</td>\n",
              "      <td>82.08</td>\n",
              "    </tr>\n",
              "    <tr>\n",
              "      <th>Iconha/Alfredo Chaves</th>\n",
              "      <td>quarta</td>\n",
              "      <td>92.60</td>\n",
              "    </tr>\n",
              "    <tr>\n",
              "      <th>Guarapari</th>\n",
              "      <td>quinta</td>\n",
              "      <td>22.15</td>\n",
              "    </tr>\n",
              "    <tr>\n",
              "      <th>Guarapari</th>\n",
              "      <td>sexta</td>\n",
              "      <td>22.15</td>\n",
              "    </tr>\n",
              "  </tbody>\n",
              "</table>\n",
              "</div>\n",
              "      <button class=\"colab-df-convert\" onclick=\"convertToInteractive('df-c62f7727-1c26-4886-a31a-1075c80a9a88')\"\n",
              "              title=\"Convert this dataframe to an interactive table.\"\n",
              "              style=\"display:none;\">\n",
              "        \n",
              "  <svg xmlns=\"http://www.w3.org/2000/svg\" height=\"24px\"viewBox=\"0 0 24 24\"\n",
              "       width=\"24px\">\n",
              "    <path d=\"M0 0h24v24H0V0z\" fill=\"none\"/>\n",
              "    <path d=\"M18.56 5.44l.94 2.06.94-2.06 2.06-.94-2.06-.94-.94-2.06-.94 2.06-2.06.94zm-11 1L8.5 8.5l.94-2.06 2.06-.94-2.06-.94L8.5 2.5l-.94 2.06-2.06.94zm10 10l.94 2.06.94-2.06 2.06-.94-2.06-.94-.94-2.06-.94 2.06-2.06.94z\"/><path d=\"M17.41 7.96l-1.37-1.37c-.4-.4-.92-.59-1.43-.59-.52 0-1.04.2-1.43.59L10.3 9.45l-7.72 7.72c-.78.78-.78 2.05 0 2.83L4 21.41c.39.39.9.59 1.41.59.51 0 1.02-.2 1.41-.59l7.78-7.78 2.81-2.81c.8-.78.8-2.07 0-2.86zM5.41 20L4 18.59l7.72-7.72 1.47 1.35L5.41 20z\"/>\n",
              "  </svg>\n",
              "      </button>\n",
              "      \n",
              "  <style>\n",
              "    .colab-df-container {\n",
              "      display:flex;\n",
              "      flex-wrap:wrap;\n",
              "      gap: 12px;\n",
              "    }\n",
              "\n",
              "    .colab-df-convert {\n",
              "      background-color: #E8F0FE;\n",
              "      border: none;\n",
              "      border-radius: 50%;\n",
              "      cursor: pointer;\n",
              "      display: none;\n",
              "      fill: #1967D2;\n",
              "      height: 32px;\n",
              "      padding: 0 0 0 0;\n",
              "      width: 32px;\n",
              "    }\n",
              "\n",
              "    .colab-df-convert:hover {\n",
              "      background-color: #E2EBFA;\n",
              "      box-shadow: 0px 1px 2px rgba(60, 64, 67, 0.3), 0px 1px 3px 1px rgba(60, 64, 67, 0.15);\n",
              "      fill: #174EA6;\n",
              "    }\n",
              "\n",
              "    [theme=dark] .colab-df-convert {\n",
              "      background-color: #3B4455;\n",
              "      fill: #D2E3FC;\n",
              "    }\n",
              "\n",
              "    [theme=dark] .colab-df-convert:hover {\n",
              "      background-color: #434B5C;\n",
              "      box-shadow: 0px 1px 3px 1px rgba(0, 0, 0, 0.15);\n",
              "      filter: drop-shadow(0px 1px 2px rgba(0, 0, 0, 0.3));\n",
              "      fill: #FFFFFF;\n",
              "    }\n",
              "  </style>\n",
              "\n",
              "      <script>\n",
              "        const buttonEl =\n",
              "          document.querySelector('#df-c62f7727-1c26-4886-a31a-1075c80a9a88 button.colab-df-convert');\n",
              "        buttonEl.style.display =\n",
              "          google.colab.kernel.accessAllowed ? 'block' : 'none';\n",
              "\n",
              "        async function convertToInteractive(key) {\n",
              "          const element = document.querySelector('#df-c62f7727-1c26-4886-a31a-1075c80a9a88');\n",
              "          const dataTable =\n",
              "            await google.colab.kernel.invokeFunction('convertToInteractive',\n",
              "                                                     [key], {});\n",
              "          if (!dataTable) return;\n",
              "\n",
              "          const docLinkHtml = 'Like what you see? Visit the ' +\n",
              "            '<a target=\"_blank\" href=https://colab.research.google.com/notebooks/data_table.ipynb>data table notebook</a>'\n",
              "            + ' to learn more about interactive tables.';\n",
              "          element.innerHTML = '';\n",
              "          dataTable['output_type'] = 'display_data';\n",
              "          await google.colab.output.renderOutput(dataTable, element);\n",
              "          const docLink = document.createElement('div');\n",
              "          docLink.innerHTML = docLinkHtml;\n",
              "          element.appendChild(docLink);\n",
              "        }\n",
              "      </script>\n",
              "    </div>\n",
              "  </div>\n",
              "  "
            ]
          },
          "metadata": {},
          "execution_count": 33
        }
      ]
    },
    {
      "cell_type": "code",
      "source": [
        "# Print gasto da primeira semana\n",
        "\n",
        "total_2 = ss.Gasto.sum().round(2)\n",
        "print(f' Na segunda semana, serão gastos R$ {total_2}.')"
      ],
      "metadata": {
        "id": "D7E_DooyUp8Z",
        "colab": {
          "base_uri": "https://localhost:8080/"
        },
        "outputId": "f2501b0f-e8fe-43fe-fd1d-b3173e4ec9fd"
      },
      "execution_count": 36,
      "outputs": [
        {
          "output_type": "stream",
          "name": "stdout",
          "text": [
            " Na segunda semana, serão gastos R$ 384.13.\n"
          ]
        }
      ]
    },
    {
      "cell_type": "markdown",
      "source": [
        "Conforme o mês têm aproximadamente 4 semanas, teremos de gasto:"
      ],
      "metadata": {
        "id": "1M9KVYKDU6aC"
      }
    },
    {
      "cell_type": "code",
      "source": [
        "# Print total de gasto no mês\n",
        "\n",
        "tot = (total_1 * 2 ) + (total_2 *2)\n",
        "print(f'Por mês, o RCA que trabalhar no setor do Litoral, gastará em média R$ {tot} para estar visitando todos os clientes, desconsiderando deslocamento dentro das cidades.')"
      ],
      "metadata": {
        "colab": {
          "base_uri": "https://localhost:8080/"
        },
        "id": "MgIVCsCSVE0R",
        "outputId": "1f8fd28c-5ccd-4611-ff95-acea6353dea1"
      },
      "execution_count": 39,
      "outputs": [
        {
          "output_type": "stream",
          "name": "stdout",
          "text": [
            "Por mês, o RCA que trabalhar no setor do Litoral, gastará em média R$ 1499.98 para estar visitando todos os clientes, desconsiderando deslocamento dentro das cidades.\n"
          ]
        }
      ]
    },
    {
      "cell_type": "markdown",
      "source": [
        "# Faturamento geral por cidade\n",
        "Com base na venda mensal por cidade, conseguimos ter noção do volume de venda por setor, que nos auxilia na escolha da rota."
      ],
      "metadata": {
        "id": "6LpkOhc07djE"
      }
    },
    {
      "cell_type": "code",
      "source": [
        "# Importando a tabela de vendas dos clientes\n",
        "\n",
        "tabela_vendas = pd.read_excel('VENDASTICKETMEDIO3.xlsx')\n",
        "tabela_vendas.head(5)"
      ],
      "metadata": {
        "colab": {
          "base_uri": "https://localhost:8080/",
          "height": 206
        },
        "id": "73f5XX3Q8Amc",
        "outputId": "702e578a-08d8-411f-e9fb-d868bdfbd011"
      },
      "execution_count": 53,
      "outputs": [
        {
          "output_type": "execute_result",
          "data": {
            "text/plain": [
              "   CÓD   CNPJ RAZÃO SOCIAL    ENDEREÇO  Nº                BAIRRO  \\\n",
              "0    1  CNPJ1    CLIENTE 1  ENDERECO 1   1                CENTRO   \n",
              "1    2  CNPJ2    CLIENTE 2  ENDERECO 2   2        ALFREDO CHAVES   \n",
              "2    3  CNPJ3    CLIENTE 3  ENDERECO 3   3                CENTRO   \n",
              "3    4  CNPJ4    CLIENTE 4  ENDERECO 4   4                CENTRO   \n",
              "4    5  CNPJ5    CLIENTE 5  ENDERECO 5   5  PRAIA DE CASTELHANOS   \n",
              "\n",
              "           CIDADE      PDA  VOLUME GERAL  \n",
              "0  ALFREDO CHAVES      NaN        102.10  \n",
              "1  ALFREDO CHAVES   502.99       1674.62  \n",
              "2  ALFREDO CHAVES  2567.00       7902.54  \n",
              "3  ALFREDO CHAVES      NaN        629.34  \n",
              "4        ANCHIETA  1233.60       1233.60  "
            ],
            "text/html": [
              "\n",
              "  <div id=\"df-250f6605-41dd-4f9d-a479-a97fc78cdbf4\">\n",
              "    <div class=\"colab-df-container\">\n",
              "      <div>\n",
              "<style scoped>\n",
              "    .dataframe tbody tr th:only-of-type {\n",
              "        vertical-align: middle;\n",
              "    }\n",
              "\n",
              "    .dataframe tbody tr th {\n",
              "        vertical-align: top;\n",
              "    }\n",
              "\n",
              "    .dataframe thead th {\n",
              "        text-align: right;\n",
              "    }\n",
              "</style>\n",
              "<table border=\"1\" class=\"dataframe\">\n",
              "  <thead>\n",
              "    <tr style=\"text-align: right;\">\n",
              "      <th></th>\n",
              "      <th>CÓD</th>\n",
              "      <th>CNPJ</th>\n",
              "      <th>RAZÃO SOCIAL</th>\n",
              "      <th>ENDEREÇO</th>\n",
              "      <th>Nº</th>\n",
              "      <th>BAIRRO</th>\n",
              "      <th>CIDADE</th>\n",
              "      <th>PDA</th>\n",
              "      <th>VOLUME GERAL</th>\n",
              "    </tr>\n",
              "  </thead>\n",
              "  <tbody>\n",
              "    <tr>\n",
              "      <th>0</th>\n",
              "      <td>1</td>\n",
              "      <td>CNPJ1</td>\n",
              "      <td>CLIENTE 1</td>\n",
              "      <td>ENDERECO 1</td>\n",
              "      <td>1</td>\n",
              "      <td>CENTRO</td>\n",
              "      <td>ALFREDO CHAVES</td>\n",
              "      <td>NaN</td>\n",
              "      <td>102.10</td>\n",
              "    </tr>\n",
              "    <tr>\n",
              "      <th>1</th>\n",
              "      <td>2</td>\n",
              "      <td>CNPJ2</td>\n",
              "      <td>CLIENTE 2</td>\n",
              "      <td>ENDERECO 2</td>\n",
              "      <td>2</td>\n",
              "      <td>ALFREDO CHAVES</td>\n",
              "      <td>ALFREDO CHAVES</td>\n",
              "      <td>502.99</td>\n",
              "      <td>1674.62</td>\n",
              "    </tr>\n",
              "    <tr>\n",
              "      <th>2</th>\n",
              "      <td>3</td>\n",
              "      <td>CNPJ3</td>\n",
              "      <td>CLIENTE 3</td>\n",
              "      <td>ENDERECO 3</td>\n",
              "      <td>3</td>\n",
              "      <td>CENTRO</td>\n",
              "      <td>ALFREDO CHAVES</td>\n",
              "      <td>2567.00</td>\n",
              "      <td>7902.54</td>\n",
              "    </tr>\n",
              "    <tr>\n",
              "      <th>3</th>\n",
              "      <td>4</td>\n",
              "      <td>CNPJ4</td>\n",
              "      <td>CLIENTE 4</td>\n",
              "      <td>ENDERECO 4</td>\n",
              "      <td>4</td>\n",
              "      <td>CENTRO</td>\n",
              "      <td>ALFREDO CHAVES</td>\n",
              "      <td>NaN</td>\n",
              "      <td>629.34</td>\n",
              "    </tr>\n",
              "    <tr>\n",
              "      <th>4</th>\n",
              "      <td>5</td>\n",
              "      <td>CNPJ5</td>\n",
              "      <td>CLIENTE 5</td>\n",
              "      <td>ENDERECO 5</td>\n",
              "      <td>5</td>\n",
              "      <td>PRAIA DE CASTELHANOS</td>\n",
              "      <td>ANCHIETA</td>\n",
              "      <td>1233.60</td>\n",
              "      <td>1233.60</td>\n",
              "    </tr>\n",
              "  </tbody>\n",
              "</table>\n",
              "</div>\n",
              "      <button class=\"colab-df-convert\" onclick=\"convertToInteractive('df-250f6605-41dd-4f9d-a479-a97fc78cdbf4')\"\n",
              "              title=\"Convert this dataframe to an interactive table.\"\n",
              "              style=\"display:none;\">\n",
              "        \n",
              "  <svg xmlns=\"http://www.w3.org/2000/svg\" height=\"24px\"viewBox=\"0 0 24 24\"\n",
              "       width=\"24px\">\n",
              "    <path d=\"M0 0h24v24H0V0z\" fill=\"none\"/>\n",
              "    <path d=\"M18.56 5.44l.94 2.06.94-2.06 2.06-.94-2.06-.94-.94-2.06-.94 2.06-2.06.94zm-11 1L8.5 8.5l.94-2.06 2.06-.94-2.06-.94L8.5 2.5l-.94 2.06-2.06.94zm10 10l.94 2.06.94-2.06 2.06-.94-2.06-.94-.94-2.06-.94 2.06-2.06.94z\"/><path d=\"M17.41 7.96l-1.37-1.37c-.4-.4-.92-.59-1.43-.59-.52 0-1.04.2-1.43.59L10.3 9.45l-7.72 7.72c-.78.78-.78 2.05 0 2.83L4 21.41c.39.39.9.59 1.41.59.51 0 1.02-.2 1.41-.59l7.78-7.78 2.81-2.81c.8-.78.8-2.07 0-2.86zM5.41 20L4 18.59l7.72-7.72 1.47 1.35L5.41 20z\"/>\n",
              "  </svg>\n",
              "      </button>\n",
              "      \n",
              "  <style>\n",
              "    .colab-df-container {\n",
              "      display:flex;\n",
              "      flex-wrap:wrap;\n",
              "      gap: 12px;\n",
              "    }\n",
              "\n",
              "    .colab-df-convert {\n",
              "      background-color: #E8F0FE;\n",
              "      border: none;\n",
              "      border-radius: 50%;\n",
              "      cursor: pointer;\n",
              "      display: none;\n",
              "      fill: #1967D2;\n",
              "      height: 32px;\n",
              "      padding: 0 0 0 0;\n",
              "      width: 32px;\n",
              "    }\n",
              "\n",
              "    .colab-df-convert:hover {\n",
              "      background-color: #E2EBFA;\n",
              "      box-shadow: 0px 1px 2px rgba(60, 64, 67, 0.3), 0px 1px 3px 1px rgba(60, 64, 67, 0.15);\n",
              "      fill: #174EA6;\n",
              "    }\n",
              "\n",
              "    [theme=dark] .colab-df-convert {\n",
              "      background-color: #3B4455;\n",
              "      fill: #D2E3FC;\n",
              "    }\n",
              "\n",
              "    [theme=dark] .colab-df-convert:hover {\n",
              "      background-color: #434B5C;\n",
              "      box-shadow: 0px 1px 3px 1px rgba(0, 0, 0, 0.15);\n",
              "      filter: drop-shadow(0px 1px 2px rgba(0, 0, 0, 0.3));\n",
              "      fill: #FFFFFF;\n",
              "    }\n",
              "  </style>\n",
              "\n",
              "      <script>\n",
              "        const buttonEl =\n",
              "          document.querySelector('#df-250f6605-41dd-4f9d-a479-a97fc78cdbf4 button.colab-df-convert');\n",
              "        buttonEl.style.display =\n",
              "          google.colab.kernel.accessAllowed ? 'block' : 'none';\n",
              "\n",
              "        async function convertToInteractive(key) {\n",
              "          const element = document.querySelector('#df-250f6605-41dd-4f9d-a479-a97fc78cdbf4');\n",
              "          const dataTable =\n",
              "            await google.colab.kernel.invokeFunction('convertToInteractive',\n",
              "                                                     [key], {});\n",
              "          if (!dataTable) return;\n",
              "\n",
              "          const docLinkHtml = 'Like what you see? Visit the ' +\n",
              "            '<a target=\"_blank\" href=https://colab.research.google.com/notebooks/data_table.ipynb>data table notebook</a>'\n",
              "            + ' to learn more about interactive tables.';\n",
              "          element.innerHTML = '';\n",
              "          dataTable['output_type'] = 'display_data';\n",
              "          await google.colab.output.renderOutput(dataTable, element);\n",
              "          const docLink = document.createElement('div');\n",
              "          docLink.innerHTML = docLinkHtml;\n",
              "          element.appendChild(docLink);\n",
              "        }\n",
              "      </script>\n",
              "    </div>\n",
              "  </div>\n",
              "  "
            ]
          },
          "metadata": {},
          "execution_count": 53
        }
      ]
    },
    {
      "cell_type": "code",
      "source": [
        "# Identificando os tipos de dados para tratamento\n",
        "\n",
        "tipos_de_dados = pd.DataFrame(tabela_vendas.dtypes, columns = ['Tipos de Dados'])\n",
        "tipos_de_dados.columns.name = 'Variáveis'\n",
        "tipos_de_dados"
      ],
      "metadata": {
        "colab": {
          "base_uri": "https://localhost:8080/",
          "height": 332
        },
        "id": "MiAMwAmE9m8Y",
        "outputId": "1b696b95-532b-4bd0-875b-9b04d9822a63"
      },
      "execution_count": 54,
      "outputs": [
        {
          "output_type": "execute_result",
          "data": {
            "text/plain": [
              "Variáveis    Tipos de Dados\n",
              "CÓD                   int64\n",
              "CNPJ                 object\n",
              "RAZÃO SOCIAL         object\n",
              "ENDEREÇO             object\n",
              "Nº                    int64\n",
              "BAIRRO               object\n",
              "CIDADE               object\n",
              "PDA                 float64\n",
              "VOLUME GERAL        float64"
            ],
            "text/html": [
              "\n",
              "  <div id=\"df-304c7a70-0d2c-4427-a80f-2020d47e2515\">\n",
              "    <div class=\"colab-df-container\">\n",
              "      <div>\n",
              "<style scoped>\n",
              "    .dataframe tbody tr th:only-of-type {\n",
              "        vertical-align: middle;\n",
              "    }\n",
              "\n",
              "    .dataframe tbody tr th {\n",
              "        vertical-align: top;\n",
              "    }\n",
              "\n",
              "    .dataframe thead th {\n",
              "        text-align: right;\n",
              "    }\n",
              "</style>\n",
              "<table border=\"1\" class=\"dataframe\">\n",
              "  <thead>\n",
              "    <tr style=\"text-align: right;\">\n",
              "      <th>Variáveis</th>\n",
              "      <th>Tipos de Dados</th>\n",
              "    </tr>\n",
              "  </thead>\n",
              "  <tbody>\n",
              "    <tr>\n",
              "      <th>CÓD</th>\n",
              "      <td>int64</td>\n",
              "    </tr>\n",
              "    <tr>\n",
              "      <th>CNPJ</th>\n",
              "      <td>object</td>\n",
              "    </tr>\n",
              "    <tr>\n",
              "      <th>RAZÃO SOCIAL</th>\n",
              "      <td>object</td>\n",
              "    </tr>\n",
              "    <tr>\n",
              "      <th>ENDEREÇO</th>\n",
              "      <td>object</td>\n",
              "    </tr>\n",
              "    <tr>\n",
              "      <th>Nº</th>\n",
              "      <td>int64</td>\n",
              "    </tr>\n",
              "    <tr>\n",
              "      <th>BAIRRO</th>\n",
              "      <td>object</td>\n",
              "    </tr>\n",
              "    <tr>\n",
              "      <th>CIDADE</th>\n",
              "      <td>object</td>\n",
              "    </tr>\n",
              "    <tr>\n",
              "      <th>PDA</th>\n",
              "      <td>float64</td>\n",
              "    </tr>\n",
              "    <tr>\n",
              "      <th>VOLUME GERAL</th>\n",
              "      <td>float64</td>\n",
              "    </tr>\n",
              "  </tbody>\n",
              "</table>\n",
              "</div>\n",
              "      <button class=\"colab-df-convert\" onclick=\"convertToInteractive('df-304c7a70-0d2c-4427-a80f-2020d47e2515')\"\n",
              "              title=\"Convert this dataframe to an interactive table.\"\n",
              "              style=\"display:none;\">\n",
              "        \n",
              "  <svg xmlns=\"http://www.w3.org/2000/svg\" height=\"24px\"viewBox=\"0 0 24 24\"\n",
              "       width=\"24px\">\n",
              "    <path d=\"M0 0h24v24H0V0z\" fill=\"none\"/>\n",
              "    <path d=\"M18.56 5.44l.94 2.06.94-2.06 2.06-.94-2.06-.94-.94-2.06-.94 2.06-2.06.94zm-11 1L8.5 8.5l.94-2.06 2.06-.94-2.06-.94L8.5 2.5l-.94 2.06-2.06.94zm10 10l.94 2.06.94-2.06 2.06-.94-2.06-.94-.94-2.06-.94 2.06-2.06.94z\"/><path d=\"M17.41 7.96l-1.37-1.37c-.4-.4-.92-.59-1.43-.59-.52 0-1.04.2-1.43.59L10.3 9.45l-7.72 7.72c-.78.78-.78 2.05 0 2.83L4 21.41c.39.39.9.59 1.41.59.51 0 1.02-.2 1.41-.59l7.78-7.78 2.81-2.81c.8-.78.8-2.07 0-2.86zM5.41 20L4 18.59l7.72-7.72 1.47 1.35L5.41 20z\"/>\n",
              "  </svg>\n",
              "      </button>\n",
              "      \n",
              "  <style>\n",
              "    .colab-df-container {\n",
              "      display:flex;\n",
              "      flex-wrap:wrap;\n",
              "      gap: 12px;\n",
              "    }\n",
              "\n",
              "    .colab-df-convert {\n",
              "      background-color: #E8F0FE;\n",
              "      border: none;\n",
              "      border-radius: 50%;\n",
              "      cursor: pointer;\n",
              "      display: none;\n",
              "      fill: #1967D2;\n",
              "      height: 32px;\n",
              "      padding: 0 0 0 0;\n",
              "      width: 32px;\n",
              "    }\n",
              "\n",
              "    .colab-df-convert:hover {\n",
              "      background-color: #E2EBFA;\n",
              "      box-shadow: 0px 1px 2px rgba(60, 64, 67, 0.3), 0px 1px 3px 1px rgba(60, 64, 67, 0.15);\n",
              "      fill: #174EA6;\n",
              "    }\n",
              "\n",
              "    [theme=dark] .colab-df-convert {\n",
              "      background-color: #3B4455;\n",
              "      fill: #D2E3FC;\n",
              "    }\n",
              "\n",
              "    [theme=dark] .colab-df-convert:hover {\n",
              "      background-color: #434B5C;\n",
              "      box-shadow: 0px 1px 3px 1px rgba(0, 0, 0, 0.15);\n",
              "      filter: drop-shadow(0px 1px 2px rgba(0, 0, 0, 0.3));\n",
              "      fill: #FFFFFF;\n",
              "    }\n",
              "  </style>\n",
              "\n",
              "      <script>\n",
              "        const buttonEl =\n",
              "          document.querySelector('#df-304c7a70-0d2c-4427-a80f-2020d47e2515 button.colab-df-convert');\n",
              "        buttonEl.style.display =\n",
              "          google.colab.kernel.accessAllowed ? 'block' : 'none';\n",
              "\n",
              "        async function convertToInteractive(key) {\n",
              "          const element = document.querySelector('#df-304c7a70-0d2c-4427-a80f-2020d47e2515');\n",
              "          const dataTable =\n",
              "            await google.colab.kernel.invokeFunction('convertToInteractive',\n",
              "                                                     [key], {});\n",
              "          if (!dataTable) return;\n",
              "\n",
              "          const docLinkHtml = 'Like what you see? Visit the ' +\n",
              "            '<a target=\"_blank\" href=https://colab.research.google.com/notebooks/data_table.ipynb>data table notebook</a>'\n",
              "            + ' to learn more about interactive tables.';\n",
              "          element.innerHTML = '';\n",
              "          dataTable['output_type'] = 'display_data';\n",
              "          await google.colab.output.renderOutput(dataTable, element);\n",
              "          const docLink = document.createElement('div');\n",
              "          docLink.innerHTML = docLinkHtml;\n",
              "          element.appendChild(docLink);\n",
              "        }\n",
              "      </script>\n",
              "    </div>\n",
              "  </div>\n",
              "  "
            ]
          },
          "metadata": {},
          "execution_count": 54
        }
      ]
    },
    {
      "cell_type": "code",
      "source": [
        "# Renomeando as cidades com o mesmo nome\n",
        "\n",
        "tabela_vendas['CIDADE'].value_counts()\n",
        "tabela_vendas.replace({'MARATAIZES' : 'MARATAÍZES', 'PIUMA': 'PIÚMA'}, inplace=True)\n",
        "tabela_vendas\n",
        "tabela_vendas['CIDADE'].value_counts()"
      ],
      "metadata": {
        "colab": {
          "base_uri": "https://localhost:8080/"
        },
        "id": "VTj_vuST_LV6",
        "outputId": "305db8ff-abbc-4210-ad21-31fa20331f2a"
      },
      "execution_count": 55,
      "outputs": [
        {
          "output_type": "execute_result",
          "data": {
            "text/plain": [
              "GUARAPARI             32\n",
              "ITAPEMIRIM            12\n",
              "MARATAÍZES            12\n",
              "ANCHIETA              10\n",
              "RIO NOVO DO SUL        7\n",
              "PIÚMA                  6\n",
              "ALFREDO CHAVES         4\n",
              "ICONHA                 4\n",
              "PRESIDENTE KENNEDY     1\n",
              "VARGEM ALTA            1\n",
              "Name: CIDADE, dtype: int64"
            ]
          },
          "metadata": {},
          "execution_count": 55
        }
      ]
    },
    {
      "cell_type": "code",
      "source": [
        "# # Renomeando a coluna para melhorar a identificação \n",
        "\n",
        "renomear_vendas = {'CÓD' : 'cod',\n",
        "            'CNPJ' : 'CNPJ',\n",
        "            'RAZÃO SOCIAL' : 'razao_social',\n",
        "            'ENDEREÇO' : 'endereco',\n",
        "            'Nº' : 'nº',\n",
        "            'BAIRRO' : 'bairro',\n",
        "            'CIDADE': 'cidade'} \n",
        "\n",
        "tabela_vendas = tabela_vendas.rename(columns = renomear_vendas)"
      ],
      "metadata": {
        "id": "-r6tQlUd__uY"
      },
      "execution_count": 56,
      "outputs": []
    },
    {
      "cell_type": "code",
      "source": [
        "# Colocando o código com index\n",
        "\n",
        "tabela_vendas.set_index('cod', inplace=True)\n",
        "tabela_vendas.head(5)"
      ],
      "metadata": {
        "colab": {
          "base_uri": "https://localhost:8080/",
          "height": 238
        },
        "id": "mW5djbLqAaoh",
        "outputId": "50b82cd1-b019-48c5-845e-50a59a257913"
      },
      "execution_count": 57,
      "outputs": [
        {
          "output_type": "execute_result",
          "data": {
            "text/plain": [
              "      CNPJ razao_social    endereco  nº                bairro          cidade  \\\n",
              "cod                                                                             \n",
              "1    CNPJ1    CLIENTE 1  ENDERECO 1   1                CENTRO  ALFREDO CHAVES   \n",
              "2    CNPJ2    CLIENTE 2  ENDERECO 2   2        ALFREDO CHAVES  ALFREDO CHAVES   \n",
              "3    CNPJ3    CLIENTE 3  ENDERECO 3   3                CENTRO  ALFREDO CHAVES   \n",
              "4    CNPJ4    CLIENTE 4  ENDERECO 4   4                CENTRO  ALFREDO CHAVES   \n",
              "5    CNPJ5    CLIENTE 5  ENDERECO 5   5  PRAIA DE CASTELHANOS        ANCHIETA   \n",
              "\n",
              "         PDA  VOLUME GERAL  \n",
              "cod                         \n",
              "1        NaN        102.10  \n",
              "2     502.99       1674.62  \n",
              "3    2567.00       7902.54  \n",
              "4        NaN        629.34  \n",
              "5    1233.60       1233.60  "
            ],
            "text/html": [
              "\n",
              "  <div id=\"df-b074cada-4ad3-4117-8077-44fd462ceef3\">\n",
              "    <div class=\"colab-df-container\">\n",
              "      <div>\n",
              "<style scoped>\n",
              "    .dataframe tbody tr th:only-of-type {\n",
              "        vertical-align: middle;\n",
              "    }\n",
              "\n",
              "    .dataframe tbody tr th {\n",
              "        vertical-align: top;\n",
              "    }\n",
              "\n",
              "    .dataframe thead th {\n",
              "        text-align: right;\n",
              "    }\n",
              "</style>\n",
              "<table border=\"1\" class=\"dataframe\">\n",
              "  <thead>\n",
              "    <tr style=\"text-align: right;\">\n",
              "      <th></th>\n",
              "      <th>CNPJ</th>\n",
              "      <th>razao_social</th>\n",
              "      <th>endereco</th>\n",
              "      <th>nº</th>\n",
              "      <th>bairro</th>\n",
              "      <th>cidade</th>\n",
              "      <th>PDA</th>\n",
              "      <th>VOLUME GERAL</th>\n",
              "    </tr>\n",
              "    <tr>\n",
              "      <th>cod</th>\n",
              "      <th></th>\n",
              "      <th></th>\n",
              "      <th></th>\n",
              "      <th></th>\n",
              "      <th></th>\n",
              "      <th></th>\n",
              "      <th></th>\n",
              "      <th></th>\n",
              "    </tr>\n",
              "  </thead>\n",
              "  <tbody>\n",
              "    <tr>\n",
              "      <th>1</th>\n",
              "      <td>CNPJ1</td>\n",
              "      <td>CLIENTE 1</td>\n",
              "      <td>ENDERECO 1</td>\n",
              "      <td>1</td>\n",
              "      <td>CENTRO</td>\n",
              "      <td>ALFREDO CHAVES</td>\n",
              "      <td>NaN</td>\n",
              "      <td>102.10</td>\n",
              "    </tr>\n",
              "    <tr>\n",
              "      <th>2</th>\n",
              "      <td>CNPJ2</td>\n",
              "      <td>CLIENTE 2</td>\n",
              "      <td>ENDERECO 2</td>\n",
              "      <td>2</td>\n",
              "      <td>ALFREDO CHAVES</td>\n",
              "      <td>ALFREDO CHAVES</td>\n",
              "      <td>502.99</td>\n",
              "      <td>1674.62</td>\n",
              "    </tr>\n",
              "    <tr>\n",
              "      <th>3</th>\n",
              "      <td>CNPJ3</td>\n",
              "      <td>CLIENTE 3</td>\n",
              "      <td>ENDERECO 3</td>\n",
              "      <td>3</td>\n",
              "      <td>CENTRO</td>\n",
              "      <td>ALFREDO CHAVES</td>\n",
              "      <td>2567.00</td>\n",
              "      <td>7902.54</td>\n",
              "    </tr>\n",
              "    <tr>\n",
              "      <th>4</th>\n",
              "      <td>CNPJ4</td>\n",
              "      <td>CLIENTE 4</td>\n",
              "      <td>ENDERECO 4</td>\n",
              "      <td>4</td>\n",
              "      <td>CENTRO</td>\n",
              "      <td>ALFREDO CHAVES</td>\n",
              "      <td>NaN</td>\n",
              "      <td>629.34</td>\n",
              "    </tr>\n",
              "    <tr>\n",
              "      <th>5</th>\n",
              "      <td>CNPJ5</td>\n",
              "      <td>CLIENTE 5</td>\n",
              "      <td>ENDERECO 5</td>\n",
              "      <td>5</td>\n",
              "      <td>PRAIA DE CASTELHANOS</td>\n",
              "      <td>ANCHIETA</td>\n",
              "      <td>1233.60</td>\n",
              "      <td>1233.60</td>\n",
              "    </tr>\n",
              "  </tbody>\n",
              "</table>\n",
              "</div>\n",
              "      <button class=\"colab-df-convert\" onclick=\"convertToInteractive('df-b074cada-4ad3-4117-8077-44fd462ceef3')\"\n",
              "              title=\"Convert this dataframe to an interactive table.\"\n",
              "              style=\"display:none;\">\n",
              "        \n",
              "  <svg xmlns=\"http://www.w3.org/2000/svg\" height=\"24px\"viewBox=\"0 0 24 24\"\n",
              "       width=\"24px\">\n",
              "    <path d=\"M0 0h24v24H0V0z\" fill=\"none\"/>\n",
              "    <path d=\"M18.56 5.44l.94 2.06.94-2.06 2.06-.94-2.06-.94-.94-2.06-.94 2.06-2.06.94zm-11 1L8.5 8.5l.94-2.06 2.06-.94-2.06-.94L8.5 2.5l-.94 2.06-2.06.94zm10 10l.94 2.06.94-2.06 2.06-.94-2.06-.94-.94-2.06-.94 2.06-2.06.94z\"/><path d=\"M17.41 7.96l-1.37-1.37c-.4-.4-.92-.59-1.43-.59-.52 0-1.04.2-1.43.59L10.3 9.45l-7.72 7.72c-.78.78-.78 2.05 0 2.83L4 21.41c.39.39.9.59 1.41.59.51 0 1.02-.2 1.41-.59l7.78-7.78 2.81-2.81c.8-.78.8-2.07 0-2.86zM5.41 20L4 18.59l7.72-7.72 1.47 1.35L5.41 20z\"/>\n",
              "  </svg>\n",
              "      </button>\n",
              "      \n",
              "  <style>\n",
              "    .colab-df-container {\n",
              "      display:flex;\n",
              "      flex-wrap:wrap;\n",
              "      gap: 12px;\n",
              "    }\n",
              "\n",
              "    .colab-df-convert {\n",
              "      background-color: #E8F0FE;\n",
              "      border: none;\n",
              "      border-radius: 50%;\n",
              "      cursor: pointer;\n",
              "      display: none;\n",
              "      fill: #1967D2;\n",
              "      height: 32px;\n",
              "      padding: 0 0 0 0;\n",
              "      width: 32px;\n",
              "    }\n",
              "\n",
              "    .colab-df-convert:hover {\n",
              "      background-color: #E2EBFA;\n",
              "      box-shadow: 0px 1px 2px rgba(60, 64, 67, 0.3), 0px 1px 3px 1px rgba(60, 64, 67, 0.15);\n",
              "      fill: #174EA6;\n",
              "    }\n",
              "\n",
              "    [theme=dark] .colab-df-convert {\n",
              "      background-color: #3B4455;\n",
              "      fill: #D2E3FC;\n",
              "    }\n",
              "\n",
              "    [theme=dark] .colab-df-convert:hover {\n",
              "      background-color: #434B5C;\n",
              "      box-shadow: 0px 1px 3px 1px rgba(0, 0, 0, 0.15);\n",
              "      filter: drop-shadow(0px 1px 2px rgba(0, 0, 0, 0.3));\n",
              "      fill: #FFFFFF;\n",
              "    }\n",
              "  </style>\n",
              "\n",
              "      <script>\n",
              "        const buttonEl =\n",
              "          document.querySelector('#df-b074cada-4ad3-4117-8077-44fd462ceef3 button.colab-df-convert');\n",
              "        buttonEl.style.display =\n",
              "          google.colab.kernel.accessAllowed ? 'block' : 'none';\n",
              "\n",
              "        async function convertToInteractive(key) {\n",
              "          const element = document.querySelector('#df-b074cada-4ad3-4117-8077-44fd462ceef3');\n",
              "          const dataTable =\n",
              "            await google.colab.kernel.invokeFunction('convertToInteractive',\n",
              "                                                     [key], {});\n",
              "          if (!dataTable) return;\n",
              "\n",
              "          const docLinkHtml = 'Like what you see? Visit the ' +\n",
              "            '<a target=\"_blank\" href=https://colab.research.google.com/notebooks/data_table.ipynb>data table notebook</a>'\n",
              "            + ' to learn more about interactive tables.';\n",
              "          element.innerHTML = '';\n",
              "          dataTable['output_type'] = 'display_data';\n",
              "          await google.colab.output.renderOutput(dataTable, element);\n",
              "          const docLink = document.createElement('div');\n",
              "          docLink.innerHTML = docLinkHtml;\n",
              "          element.appendChild(docLink);\n",
              "        }\n",
              "      </script>\n",
              "    </div>\n",
              "  </div>\n",
              "  "
            ]
          },
          "metadata": {},
          "execution_count": 57
        }
      ]
    },
    {
      "cell_type": "code",
      "source": [
        "# Volume geral de vendas \n",
        "\n",
        "volume_geral = tabela_vendas['VOLUME GERAL'].sum().round(3)"
      ],
      "metadata": {
        "id": "9vR6Uqj6ByUL"
      },
      "execution_count": 61,
      "outputs": []
    },
    {
      "cell_type": "markdown",
      "source": [
        "O valor total de pedido no mês foi de R$ 86461.60"
      ],
      "metadata": {
        "id": "MEXKJdJHE4mk"
      }
    },
    {
      "cell_type": "markdown",
      "source": [
        "## Faturamento Geral por cidade - função - DEF"
      ],
      "metadata": {
        "id": "kssgsKNwD-fr"
      }
    },
    {
      "cell_type": "code",
      "source": [
        "# Faturamento por cidade usando função \n",
        "\n",
        "def rota_litoral(setor, dataset=tabela_vendas):\n",
        "    selecao = tabela_vendas['cidade'] == setor\n",
        "    n1 = tabela_vendas[selecao].shape[0]\n",
        "    n2 = tabela_vendas[selecao]['VOLUME GERAL'].sum().round(2)\n",
        "    print(f' A cidade de {setor} tem {n1} clientes com um faturamento de R$ {n2}')\n"
      ],
      "metadata": {
        "id": "NjkHgiiHDd8k"
      },
      "execution_count": 67,
      "outputs": []
    },
    {
      "cell_type": "code",
      "source": [
        "rota_litoral('GUARAPARI', tabela_vendas)"
      ],
      "metadata": {
        "colab": {
          "base_uri": "https://localhost:8080/"
        },
        "id": "MnL2s6fNg-bN",
        "outputId": "d5cfeace-40fe-47b4-b831-eb4455a4910e"
      },
      "execution_count": 68,
      "outputs": [
        {
          "output_type": "stream",
          "name": "stdout",
          "text": [
            " A cidade de GUARAPARI tem 32 clientes com um faturamento de R$ 26776.38\n"
          ]
        }
      ]
    },
    {
      "cell_type": "code",
      "source": [
        "rota_litoral('ANCHIETA', tabela_vendas)"
      ],
      "metadata": {
        "colab": {
          "base_uri": "https://localhost:8080/"
        },
        "id": "2j464TE8IAQq",
        "outputId": "ebad9f50-1c34-4ec0-8386-fa7ea8592a43"
      },
      "execution_count": 69,
      "outputs": [
        {
          "output_type": "stream",
          "name": "stdout",
          "text": [
            " A cidade de ANCHIETA tem 10 clientes com um faturamento de R$ 9477.97\n"
          ]
        }
      ]
    },
    {
      "cell_type": "code",
      "source": [
        "rota_litoral('PIÚMA', tabela_vendas)"
      ],
      "metadata": {
        "colab": {
          "base_uri": "https://localhost:8080/"
        },
        "id": "uMYZRJeBIE3o",
        "outputId": "0abbbd29-5a87-47f3-f44c-4b09b37c3c2c"
      },
      "execution_count": 70,
      "outputs": [
        {
          "output_type": "stream",
          "name": "stdout",
          "text": [
            " A cidade de PIÚMA tem 6 clientes com um faturamento de R$ 5038.44\n"
          ]
        }
      ]
    },
    {
      "cell_type": "code",
      "source": [
        "rota_litoral('MARATAÍZES', tabela_vendas)"
      ],
      "metadata": {
        "colab": {
          "base_uri": "https://localhost:8080/"
        },
        "id": "fFa3j47MILks",
        "outputId": "c2af4190-3e21-4a41-a57e-dd8cb937d1b4"
      },
      "execution_count": 71,
      "outputs": [
        {
          "output_type": "stream",
          "name": "stdout",
          "text": [
            " A cidade de MARATAÍZES tem 12 clientes com um faturamento de R$ 17575.27\n"
          ]
        }
      ]
    },
    {
      "cell_type": "code",
      "source": [
        "rota_litoral('ICONHA', tabela_vendas)"
      ],
      "metadata": {
        "colab": {
          "base_uri": "https://localhost:8080/"
        },
        "id": "e4rHYlriIOL6",
        "outputId": "577e4009-7ba9-4b36-c0f3-baefef5be410"
      },
      "execution_count": 72,
      "outputs": [
        {
          "output_type": "stream",
          "name": "stdout",
          "text": [
            " A cidade de ICONHA tem 4 clientes com um faturamento de R$ 5041.78\n"
          ]
        }
      ]
    },
    {
      "cell_type": "code",
      "source": [
        "rota_litoral('ALFREDO CHAVES', tabela_vendas)"
      ],
      "metadata": {
        "colab": {
          "base_uri": "https://localhost:8080/"
        },
        "id": "udCw764lIRIQ",
        "outputId": "0904b726-35a2-47e8-937b-4585be7a13c6"
      },
      "execution_count": 73,
      "outputs": [
        {
          "output_type": "stream",
          "name": "stdout",
          "text": [
            " A cidade de ALFREDO CHAVES tem 4 clientes com um faturamento de R$ 10308.6\n"
          ]
        }
      ]
    },
    {
      "cell_type": "code",
      "source": [
        "rota_litoral('RIO NOVO DO SUL', tabela_vendas)"
      ],
      "metadata": {
        "colab": {
          "base_uri": "https://localhost:8080/"
        },
        "id": "Wzk1TrPzIS_o",
        "outputId": "944d3b40-49dd-43db-b96c-c76cbba7e427"
      },
      "execution_count": 75,
      "outputs": [
        {
          "output_type": "stream",
          "name": "stdout",
          "text": [
            " A cidade de RIO NOVO DO SUL tem 7 clientes com um faturamento de R$ 3719.61\n"
          ]
        }
      ]
    },
    {
      "cell_type": "code",
      "source": [
        "rota_litoral('ITAPEMIRIM', tabela_vendas)"
      ],
      "metadata": {
        "colab": {
          "base_uri": "https://localhost:8080/"
        },
        "id": "3Bww0kCdIXxs",
        "outputId": "c95230b9-f57b-40e0-b5d2-d61235816c0d"
      },
      "execution_count": 77,
      "outputs": [
        {
          "output_type": "stream",
          "name": "stdout",
          "text": [
            " A cidade de ITAPEMIRIM tem 12 clientes com um faturamento de R$ 9806.49\n"
          ]
        }
      ]
    },
    {
      "cell_type": "code",
      "source": [
        "rota_litoral('PRESIDENTE KENNEDY', tabela_vendas)"
      ],
      "metadata": {
        "colab": {
          "base_uri": "https://localhost:8080/"
        },
        "id": "Hf9so0q6IavA",
        "outputId": "7d15979b-0faf-471b-a2e2-02f32a1ee65d"
      },
      "execution_count": 78,
      "outputs": [
        {
          "output_type": "stream",
          "name": "stdout",
          "text": [
            " A cidade de PRESIDENTE KENNEDY tem 1 clientes com um faturamento de R$ 0.0\n"
          ]
        }
      ]
    },
    {
      "cell_type": "code",
      "source": [
        "rota_litoral('VARGEM ALTA', tabela_vendas)"
      ],
      "metadata": {
        "colab": {
          "base_uri": "https://localhost:8080/"
        },
        "id": "K1o_3Dv4Igic",
        "outputId": "5ed092c3-d5db-4a51-d262-df26388c1cc4"
      },
      "execution_count": 79,
      "outputs": [
        {
          "output_type": "stream",
          "name": "stdout",
          "text": [
            " A cidade de VARGEM ALTA tem 1 clientes com um faturamento de R$ 268.14\n"
          ]
        }
      ]
    },
    {
      "cell_type": "markdown",
      "source": [
        "## Faturamento Geral por cidade - Gráfico\n"
      ],
      "metadata": {
        "id": "f9C4q7uUt09-"
      }
    },
    {
      "cell_type": "code",
      "source": [
        "# Groupby das vendas por cidade\n",
        "\n",
        "faturamento_por_cidade = tabela_vendas[['cidade', 'VOLUME GERAL']].groupby('cidade').sum().round(2)\n",
        "faturamento_por_cidade"
      ],
      "metadata": {
        "colab": {
          "base_uri": "https://localhost:8080/",
          "height": 394
        },
        "id": "PyLszoCVt0sp",
        "outputId": "4e8f6620-70ae-44c6-f582-9bd5590f53a5"
      },
      "execution_count": 80,
      "outputs": [
        {
          "output_type": "execute_result",
          "data": {
            "text/plain": [
              "                    VOLUME GERAL\n",
              "cidade                          \n",
              "ALFREDO CHAVES          10308.60\n",
              "ANCHIETA                 9477.97\n",
              "GUARAPARI               26776.38\n",
              "ICONHA                   5041.78\n",
              "ITAPEMIRIM               9806.49\n",
              "MARATAÍZES              17575.27\n",
              "PIÚMA                    5038.44\n",
              "PRESIDENTE KENNEDY          0.00\n",
              "RIO NOVO DO SUL          3719.61\n",
              "VARGEM ALTA               268.14"
            ],
            "text/html": [
              "\n",
              "  <div id=\"df-38520b81-a630-4bbd-ad94-3a5f105be6c7\">\n",
              "    <div class=\"colab-df-container\">\n",
              "      <div>\n",
              "<style scoped>\n",
              "    .dataframe tbody tr th:only-of-type {\n",
              "        vertical-align: middle;\n",
              "    }\n",
              "\n",
              "    .dataframe tbody tr th {\n",
              "        vertical-align: top;\n",
              "    }\n",
              "\n",
              "    .dataframe thead th {\n",
              "        text-align: right;\n",
              "    }\n",
              "</style>\n",
              "<table border=\"1\" class=\"dataframe\">\n",
              "  <thead>\n",
              "    <tr style=\"text-align: right;\">\n",
              "      <th></th>\n",
              "      <th>VOLUME GERAL</th>\n",
              "    </tr>\n",
              "    <tr>\n",
              "      <th>cidade</th>\n",
              "      <th></th>\n",
              "    </tr>\n",
              "  </thead>\n",
              "  <tbody>\n",
              "    <tr>\n",
              "      <th>ALFREDO CHAVES</th>\n",
              "      <td>10308.60</td>\n",
              "    </tr>\n",
              "    <tr>\n",
              "      <th>ANCHIETA</th>\n",
              "      <td>9477.97</td>\n",
              "    </tr>\n",
              "    <tr>\n",
              "      <th>GUARAPARI</th>\n",
              "      <td>26776.38</td>\n",
              "    </tr>\n",
              "    <tr>\n",
              "      <th>ICONHA</th>\n",
              "      <td>5041.78</td>\n",
              "    </tr>\n",
              "    <tr>\n",
              "      <th>ITAPEMIRIM</th>\n",
              "      <td>9806.49</td>\n",
              "    </tr>\n",
              "    <tr>\n",
              "      <th>MARATAÍZES</th>\n",
              "      <td>17575.27</td>\n",
              "    </tr>\n",
              "    <tr>\n",
              "      <th>PIÚMA</th>\n",
              "      <td>5038.44</td>\n",
              "    </tr>\n",
              "    <tr>\n",
              "      <th>PRESIDENTE KENNEDY</th>\n",
              "      <td>0.00</td>\n",
              "    </tr>\n",
              "    <tr>\n",
              "      <th>RIO NOVO DO SUL</th>\n",
              "      <td>3719.61</td>\n",
              "    </tr>\n",
              "    <tr>\n",
              "      <th>VARGEM ALTA</th>\n",
              "      <td>268.14</td>\n",
              "    </tr>\n",
              "  </tbody>\n",
              "</table>\n",
              "</div>\n",
              "      <button class=\"colab-df-convert\" onclick=\"convertToInteractive('df-38520b81-a630-4bbd-ad94-3a5f105be6c7')\"\n",
              "              title=\"Convert this dataframe to an interactive table.\"\n",
              "              style=\"display:none;\">\n",
              "        \n",
              "  <svg xmlns=\"http://www.w3.org/2000/svg\" height=\"24px\"viewBox=\"0 0 24 24\"\n",
              "       width=\"24px\">\n",
              "    <path d=\"M0 0h24v24H0V0z\" fill=\"none\"/>\n",
              "    <path d=\"M18.56 5.44l.94 2.06.94-2.06 2.06-.94-2.06-.94-.94-2.06-.94 2.06-2.06.94zm-11 1L8.5 8.5l.94-2.06 2.06-.94-2.06-.94L8.5 2.5l-.94 2.06-2.06.94zm10 10l.94 2.06.94-2.06 2.06-.94-2.06-.94-.94-2.06-.94 2.06-2.06.94z\"/><path d=\"M17.41 7.96l-1.37-1.37c-.4-.4-.92-.59-1.43-.59-.52 0-1.04.2-1.43.59L10.3 9.45l-7.72 7.72c-.78.78-.78 2.05 0 2.83L4 21.41c.39.39.9.59 1.41.59.51 0 1.02-.2 1.41-.59l7.78-7.78 2.81-2.81c.8-.78.8-2.07 0-2.86zM5.41 20L4 18.59l7.72-7.72 1.47 1.35L5.41 20z\"/>\n",
              "  </svg>\n",
              "      </button>\n",
              "      \n",
              "  <style>\n",
              "    .colab-df-container {\n",
              "      display:flex;\n",
              "      flex-wrap:wrap;\n",
              "      gap: 12px;\n",
              "    }\n",
              "\n",
              "    .colab-df-convert {\n",
              "      background-color: #E8F0FE;\n",
              "      border: none;\n",
              "      border-radius: 50%;\n",
              "      cursor: pointer;\n",
              "      display: none;\n",
              "      fill: #1967D2;\n",
              "      height: 32px;\n",
              "      padding: 0 0 0 0;\n",
              "      width: 32px;\n",
              "    }\n",
              "\n",
              "    .colab-df-convert:hover {\n",
              "      background-color: #E2EBFA;\n",
              "      box-shadow: 0px 1px 2px rgba(60, 64, 67, 0.3), 0px 1px 3px 1px rgba(60, 64, 67, 0.15);\n",
              "      fill: #174EA6;\n",
              "    }\n",
              "\n",
              "    [theme=dark] .colab-df-convert {\n",
              "      background-color: #3B4455;\n",
              "      fill: #D2E3FC;\n",
              "    }\n",
              "\n",
              "    [theme=dark] .colab-df-convert:hover {\n",
              "      background-color: #434B5C;\n",
              "      box-shadow: 0px 1px 3px 1px rgba(0, 0, 0, 0.15);\n",
              "      filter: drop-shadow(0px 1px 2px rgba(0, 0, 0, 0.3));\n",
              "      fill: #FFFFFF;\n",
              "    }\n",
              "  </style>\n",
              "\n",
              "      <script>\n",
              "        const buttonEl =\n",
              "          document.querySelector('#df-38520b81-a630-4bbd-ad94-3a5f105be6c7 button.colab-df-convert');\n",
              "        buttonEl.style.display =\n",
              "          google.colab.kernel.accessAllowed ? 'block' : 'none';\n",
              "\n",
              "        async function convertToInteractive(key) {\n",
              "          const element = document.querySelector('#df-38520b81-a630-4bbd-ad94-3a5f105be6c7');\n",
              "          const dataTable =\n",
              "            await google.colab.kernel.invokeFunction('convertToInteractive',\n",
              "                                                     [key], {});\n",
              "          if (!dataTable) return;\n",
              "\n",
              "          const docLinkHtml = 'Like what you see? Visit the ' +\n",
              "            '<a target=\"_blank\" href=https://colab.research.google.com/notebooks/data_table.ipynb>data table notebook</a>'\n",
              "            + ' to learn more about interactive tables.';\n",
              "          element.innerHTML = '';\n",
              "          dataTable['output_type'] = 'display_data';\n",
              "          await google.colab.output.renderOutput(dataTable, element);\n",
              "          const docLink = document.createElement('div');\n",
              "          docLink.innerHTML = docLinkHtml;\n",
              "          element.appendChild(docLink);\n",
              "        }\n",
              "      </script>\n",
              "    </div>\n",
              "  </div>\n",
              "  "
            ]
          },
          "metadata": {},
          "execution_count": 80
        }
      ]
    },
    {
      "cell_type": "code",
      "source": [
        "# Criando dicionário para as cidades com o seu faturamento\n",
        "\n",
        "dlist = faturamento_por_cidade.to_dict()\n",
        "dict_lista = {'ALFREDO CHAVES': 10308.6,\n",
        "  'ANCHIETA': 7926.89,\n",
        "  'GUARAPARI': 26776.38,\n",
        "  'ICONHA': 5041.78,\n",
        "  'ITAPEMIRIM': 9806.49,\n",
        "  'MARATAÍZES': 17575.27,\n",
        "  'PIÚMA': 5038.44,\n",
        "  'PRESIDENTE KENNEDY': 0.0,\n",
        "  'RIO NOVO DO SUL': 3719.61,\n",
        "  'VARGEM ALTA': 268.14}"
      ],
      "metadata": {
        "id": "ZSRdXGtP5EhY"
      },
      "execution_count": 85,
      "outputs": []
    },
    {
      "cell_type": "code",
      "source": [
        " x = dict_lista.keys()\n",
        " y = dict_lista.values()"
      ],
      "metadata": {
        "id": "6wmYaAlleoFo"
      },
      "execution_count": 86,
      "outputs": []
    },
    {
      "cell_type": "code",
      "source": [
        "# Em gráfico, o faturamento geral por cidade\n",
        "\n",
        "sns.set_palette('Accent')\n",
        "sns.set_style('darkgrid')\n",
        "plt.figure(figsize=(20,8))\n",
        "plt.ylabel('Volume de vendas/mês', color = 'blue', fontsize=16)\n",
        "plt.xlabel('Setor', color = 'blue', fontsize=16)\n",
        "plt.title('Faturamento mensal - Setor Litoral - Pasta Teuto', loc='left', fontsize=18)\n",
        "x = plt.bar(x, y)\n"
      ],
      "metadata": {
        "colab": {
          "base_uri": "https://localhost:8080/",
          "height": 522
        },
        "id": "1VXOcNB3uGcg",
        "outputId": "cab79aeb-7294-48fd-f97b-40bac497d3aa"
      },
      "execution_count": 87,
      "outputs": [
        {
          "output_type": "display_data",
          "data": {
            "text/plain": [
              "<Figure size 1440x576 with 1 Axes>"
            ],
            "image/png": "[encoded data removed]"
          },
          "metadata": {}
        }
      ]
    },
    {
      "cell_type": "markdown",
      "source": [
        "# Vendas por PDA\n",
        "PDA - Personal Development Analysis \\\\\n",
        "Neste estudo, perceberemos a diferença entre a venda total e a venda de PDA, atentando-se em Guarapari, que é a cidade local dos RCA em questão.\n"
      ],
      "metadata": {
        "id": "e_JQHqUXjJo1"
      }
    },
    {
      "cell_type": "code",
      "source": [
        "# Dropando valores nulos da coluna PDA\n",
        "\n",
        "tv = tabela_vendas.dropna()\n",
        "tv.head(5)"
      ],
      "metadata": {
        "id": "oOdaiXZxjMbY",
        "colab": {
          "base_uri": "https://localhost:8080/",
          "height": 238
        },
        "outputId": "8f74c5ea-3867-409d-8054-a5f9a92c47b1"
      },
      "execution_count": 95,
      "outputs": [
        {
          "output_type": "execute_result",
          "data": {
            "text/plain": [
              "      CNPJ razao_social    endereco  nº                bairro          cidade  \\\n",
              "cod                                                                             \n",
              "2    CNPJ2    CLIENTE 2  ENDERECO 2   2        ALFREDO CHAVES  ALFREDO CHAVES   \n",
              "3    CNPJ3    CLIENTE 3  ENDERECO 3   3                CENTRO  ALFREDO CHAVES   \n",
              "5    CNPJ5    CLIENTE 5  ENDERECO 5   5  PRAIA DE CASTELHANOS        ANCHIETA   \n",
              "6    CNPJ6    CLIENTE 6  ENDERECO 6   6                CENTRO        ANCHIETA   \n",
              "9    CNPJ9    CLIENTE 9  ENDERECO 9   9            DA JUSTICA        ANCHIETA   \n",
              "\n",
              "         PDA  VOLUME GERAL  \n",
              "cod                         \n",
              "2     502.99       1674.62  \n",
              "3    2567.00       7902.54  \n",
              "5    1233.60       1233.60  \n",
              "6     394.43        502.99  \n",
              "9     712.45       1006.16  "
            ],
            "text/html": [
              "\n",
              "  <div id=\"df-95350a50-fdd2-46c4-96bf-fe342beba94f\">\n",
              "    <div class=\"colab-df-container\">\n",
              "      <div>\n",
              "<style scoped>\n",
              "    .dataframe tbody tr th:only-of-type {\n",
              "        vertical-align: middle;\n",
              "    }\n",
              "\n",
              "    .dataframe tbody tr th {\n",
              "        vertical-align: top;\n",
              "    }\n",
              "\n",
              "    .dataframe thead th {\n",
              "        text-align: right;\n",
              "    }\n",
              "</style>\n",
              "<table border=\"1\" class=\"dataframe\">\n",
              "  <thead>\n",
              "    <tr style=\"text-align: right;\">\n",
              "      <th></th>\n",
              "      <th>CNPJ</th>\n",
              "      <th>razao_social</th>\n",
              "      <th>endereco</th>\n",
              "      <th>nº</th>\n",
              "      <th>bairro</th>\n",
              "      <th>cidade</th>\n",
              "      <th>PDA</th>\n",
              "      <th>VOLUME GERAL</th>\n",
              "    </tr>\n",
              "    <tr>\n",
              "      <th>cod</th>\n",
              "      <th></th>\n",
              "      <th></th>\n",
              "      <th></th>\n",
              "      <th></th>\n",
              "      <th></th>\n",
              "      <th></th>\n",
              "      <th></th>\n",
              "      <th></th>\n",
              "    </tr>\n",
              "  </thead>\n",
              "  <tbody>\n",
              "    <tr>\n",
              "      <th>2</th>\n",
              "      <td>CNPJ2</td>\n",
              "      <td>CLIENTE 2</td>\n",
              "      <td>ENDERECO 2</td>\n",
              "      <td>2</td>\n",
              "      <td>ALFREDO CHAVES</td>\n",
              "      <td>ALFREDO CHAVES</td>\n",
              "      <td>502.99</td>\n",
              "      <td>1674.62</td>\n",
              "    </tr>\n",
              "    <tr>\n",
              "      <th>3</th>\n",
              "      <td>CNPJ3</td>\n",
              "      <td>CLIENTE 3</td>\n",
              "      <td>ENDERECO 3</td>\n",
              "      <td>3</td>\n",
              "      <td>CENTRO</td>\n",
              "      <td>ALFREDO CHAVES</td>\n",
              "      <td>2567.00</td>\n",
              "      <td>7902.54</td>\n",
              "    </tr>\n",
              "    <tr>\n",
              "      <th>5</th>\n",
              "      <td>CNPJ5</td>\n",
              "      <td>CLIENTE 5</td>\n",
              "      <td>ENDERECO 5</td>\n",
              "      <td>5</td>\n",
              "      <td>PRAIA DE CASTELHANOS</td>\n",
              "      <td>ANCHIETA</td>\n",
              "      <td>1233.60</td>\n",
              "      <td>1233.60</td>\n",
              "    </tr>\n",
              "    <tr>\n",
              "      <th>6</th>\n",
              "      <td>CNPJ6</td>\n",
              "      <td>CLIENTE 6</td>\n",
              "      <td>ENDERECO 6</td>\n",
              "      <td>6</td>\n",
              "      <td>CENTRO</td>\n",
              "      <td>ANCHIETA</td>\n",
              "      <td>394.43</td>\n",
              "      <td>502.99</td>\n",
              "    </tr>\n",
              "    <tr>\n",
              "      <th>9</th>\n",
              "      <td>CNPJ9</td>\n",
              "      <td>CLIENTE 9</td>\n",
              "      <td>ENDERECO 9</td>\n",
              "      <td>9</td>\n",
              "      <td>DA JUSTICA</td>\n",
              "      <td>ANCHIETA</td>\n",
              "      <td>712.45</td>\n",
              "      <td>1006.16</td>\n",
              "    </tr>\n",
              "  </tbody>\n",
              "</table>\n",
              "</div>\n",
              "      <button class=\"colab-df-convert\" onclick=\"convertToInteractive('df-95350a50-fdd2-46c4-96bf-fe342beba94f')\"\n",
              "              title=\"Convert this dataframe to an interactive table.\"\n",
              "              style=\"display:none;\">\n",
              "        \n",
              "  <svg xmlns=\"http://www.w3.org/2000/svg\" height=\"24px\"viewBox=\"0 0 24 24\"\n",
              "       width=\"24px\">\n",
              "    <path d=\"M0 0h24v24H0V0z\" fill=\"none\"/>\n",
              "    <path d=\"M18.56 5.44l.94 2.06.94-2.06 2.06-.94-2.06-.94-.94-2.06-.94 2.06-2.06.94zm-11 1L8.5 8.5l.94-2.06 2.06-.94-2.06-.94L8.5 2.5l-.94 2.06-2.06.94zm10 10l.94 2.06.94-2.06 2.06-.94-2.06-.94-.94-2.06-.94 2.06-2.06.94z\"/><path d=\"M17.41 7.96l-1.37-1.37c-.4-.4-.92-.59-1.43-.59-.52 0-1.04.2-1.43.59L10.3 9.45l-7.72 7.72c-.78.78-.78 2.05 0 2.83L4 21.41c.39.39.9.59 1.41.59.51 0 1.02-.2 1.41-.59l7.78-7.78 2.81-2.81c.8-.78.8-2.07 0-2.86zM5.41 20L4 18.59l7.72-7.72 1.47 1.35L5.41 20z\"/>\n",
              "  </svg>\n",
              "      </button>\n",
              "      \n",
              "  <style>\n",
              "    .colab-df-container {\n",
              "      display:flex;\n",
              "      flex-wrap:wrap;\n",
              "      gap: 12px;\n",
              "    }\n",
              "\n",
              "    .colab-df-convert {\n",
              "      background-color: #E8F0FE;\n",
              "      border: none;\n",
              "      border-radius: 50%;\n",
              "      cursor: pointer;\n",
              "      display: none;\n",
              "      fill: #1967D2;\n",
              "      height: 32px;\n",
              "      padding: 0 0 0 0;\n",
              "      width: 32px;\n",
              "    }\n",
              "\n",
              "    .colab-df-convert:hover {\n",
              "      background-color: #E2EBFA;\n",
              "      box-shadow: 0px 1px 2px rgba(60, 64, 67, 0.3), 0px 1px 3px 1px rgba(60, 64, 67, 0.15);\n",
              "      fill: #174EA6;\n",
              "    }\n",
              "\n",
              "    [theme=dark] .colab-df-convert {\n",
              "      background-color: #3B4455;\n",
              "      fill: #D2E3FC;\n",
              "    }\n",
              "\n",
              "    [theme=dark] .colab-df-convert:hover {\n",
              "      background-color: #434B5C;\n",
              "      box-shadow: 0px 1px 3px 1px rgba(0, 0, 0, 0.15);\n",
              "      filter: drop-shadow(0px 1px 2px rgba(0, 0, 0, 0.3));\n",
              "      fill: #FFFFFF;\n",
              "    }\n",
              "  </style>\n",
              "\n",
              "      <script>\n",
              "        const buttonEl =\n",
              "          document.querySelector('#df-95350a50-fdd2-46c4-96bf-fe342beba94f button.colab-df-convert');\n",
              "        buttonEl.style.display =\n",
              "          google.colab.kernel.accessAllowed ? 'block' : 'none';\n",
              "\n",
              "        async function convertToInteractive(key) {\n",
              "          const element = document.querySelector('#df-95350a50-fdd2-46c4-96bf-fe342beba94f');\n",
              "          const dataTable =\n",
              "            await google.colab.kernel.invokeFunction('convertToInteractive',\n",
              "                                                     [key], {});\n",
              "          if (!dataTable) return;\n",
              "\n",
              "          const docLinkHtml = 'Like what you see? Visit the ' +\n",
              "            '<a target=\"_blank\" href=https://colab.research.google.com/notebooks/data_table.ipynb>data table notebook</a>'\n",
              "            + ' to learn more about interactive tables.';\n",
              "          element.innerHTML = '';\n",
              "          dataTable['output_type'] = 'display_data';\n",
              "          await google.colab.output.renderOutput(dataTable, element);\n",
              "          const docLink = document.createElement('div');\n",
              "          docLink.innerHTML = docLinkHtml;\n",
              "          element.appendChild(docLink);\n",
              "        }\n",
              "      </script>\n",
              "    </div>\n",
              "  </div>\n",
              "  "
            ]
          },
          "metadata": {},
          "execution_count": 95
        }
      ]
    },
    {
      "cell_type": "code",
      "source": [
        "# Agrupando a tabela pela coluna cidade para detalhar as vendas de PDA e geral\n",
        "\n",
        "pda_por_cidade = tv[['cidade', 'PDA', 'VOLUME GERAL']].groupby('cidade').sum().round(2)\n",
        "pda_por_cidade"
      ],
      "metadata": {
        "colab": {
          "base_uri": "https://localhost:8080/",
          "height": 332
        },
        "id": "CxB5grqWc7hL",
        "outputId": "8779418f-08b2-426e-99b0-3ee3aa02e199"
      },
      "execution_count": 96,
      "outputs": [
        {
          "output_type": "execute_result",
          "data": {
            "text/plain": [
              "                     PDA  VOLUME GERAL\n",
              "cidade                                \n",
              "ALFREDO CHAVES   3069.99       9577.16\n",
              "ANCHIETA         3337.65       4449.40\n",
              "GUARAPARI        8748.72      19938.78\n",
              "ICONHA           2918.97       3068.10\n",
              "ITAPEMIRIM        230.85        802.71\n",
              "MARATAÍZES       1341.31       3864.58\n",
              "PIÚMA             191.34       2012.72\n",
              "RIO NOVO DO SUL   483.35       1435.78"
            ],
            "text/html": [
              "\n",
              "  <div id=\"df-c3a138c1-8587-49ae-903c-6e746945d291\">\n",
              "    <div class=\"colab-df-container\">\n",
              "      <div>\n",
              "<style scoped>\n",
              "    .dataframe tbody tr th:only-of-type {\n",
              "        vertical-align: middle;\n",
              "    }\n",
              "\n",
              "    .dataframe tbody tr th {\n",
              "        vertical-align: top;\n",
              "    }\n",
              "\n",
              "    .dataframe thead th {\n",
              "        text-align: right;\n",
              "    }\n",
              "</style>\n",
              "<table border=\"1\" class=\"dataframe\">\n",
              "  <thead>\n",
              "    <tr style=\"text-align: right;\">\n",
              "      <th></th>\n",
              "      <th>PDA</th>\n",
              "      <th>VOLUME GERAL</th>\n",
              "    </tr>\n",
              "    <tr>\n",
              "      <th>cidade</th>\n",
              "      <th></th>\n",
              "      <th></th>\n",
              "    </tr>\n",
              "  </thead>\n",
              "  <tbody>\n",
              "    <tr>\n",
              "      <th>ALFREDO CHAVES</th>\n",
              "      <td>3069.99</td>\n",
              "      <td>9577.16</td>\n",
              "    </tr>\n",
              "    <tr>\n",
              "      <th>ANCHIETA</th>\n",
              "      <td>3337.65</td>\n",
              "      <td>4449.40</td>\n",
              "    </tr>\n",
              "    <tr>\n",
              "      <th>GUARAPARI</th>\n",
              "      <td>8748.72</td>\n",
              "      <td>19938.78</td>\n",
              "    </tr>\n",
              "    <tr>\n",
              "      <th>ICONHA</th>\n",
              "      <td>2918.97</td>\n",
              "      <td>3068.10</td>\n",
              "    </tr>\n",
              "    <tr>\n",
              "      <th>ITAPEMIRIM</th>\n",
              "      <td>230.85</td>\n",
              "      <td>802.71</td>\n",
              "    </tr>\n",
              "    <tr>\n",
              "      <th>MARATAÍZES</th>\n",
              "      <td>1341.31</td>\n",
              "      <td>3864.58</td>\n",
              "    </tr>\n",
              "    <tr>\n",
              "      <th>PIÚMA</th>\n",
              "      <td>191.34</td>\n",
              "      <td>2012.72</td>\n",
              "    </tr>\n",
              "    <tr>\n",
              "      <th>RIO NOVO DO SUL</th>\n",
              "      <td>483.35</td>\n",
              "      <td>1435.78</td>\n",
              "    </tr>\n",
              "  </tbody>\n",
              "</table>\n",
              "</div>\n",
              "      <button class=\"colab-df-convert\" onclick=\"convertToInteractive('df-c3a138c1-8587-49ae-903c-6e746945d291')\"\n",
              "              title=\"Convert this dataframe to an interactive table.\"\n",
              "              style=\"display:none;\">\n",
              "        \n",
              "  <svg xmlns=\"http://www.w3.org/2000/svg\" height=\"24px\"viewBox=\"0 0 24 24\"\n",
              "       width=\"24px\">\n",
              "    <path d=\"M0 0h24v24H0V0z\" fill=\"none\"/>\n",
              "    <path d=\"M18.56 5.44l.94 2.06.94-2.06 2.06-.94-2.06-.94-.94-2.06-.94 2.06-2.06.94zm-11 1L8.5 8.5l.94-2.06 2.06-.94-2.06-.94L8.5 2.5l-.94 2.06-2.06.94zm10 10l.94 2.06.94-2.06 2.06-.94-2.06-.94-.94-2.06-.94 2.06-2.06.94z\"/><path d=\"M17.41 7.96l-1.37-1.37c-.4-.4-.92-.59-1.43-.59-.52 0-1.04.2-1.43.59L10.3 9.45l-7.72 7.72c-.78.78-.78 2.05 0 2.83L4 21.41c.39.39.9.59 1.41.59.51 0 1.02-.2 1.41-.59l7.78-7.78 2.81-2.81c.8-.78.8-2.07 0-2.86zM5.41 20L4 18.59l7.72-7.72 1.47 1.35L5.41 20z\"/>\n",
              "  </svg>\n",
              "      </button>\n",
              "      \n",
              "  <style>\n",
              "    .colab-df-container {\n",
              "      display:flex;\n",
              "      flex-wrap:wrap;\n",
              "      gap: 12px;\n",
              "    }\n",
              "\n",
              "    .colab-df-convert {\n",
              "      background-color: #E8F0FE;\n",
              "      border: none;\n",
              "      border-radius: 50%;\n",
              "      cursor: pointer;\n",
              "      display: none;\n",
              "      fill: #1967D2;\n",
              "      height: 32px;\n",
              "      padding: 0 0 0 0;\n",
              "      width: 32px;\n",
              "    }\n",
              "\n",
              "    .colab-df-convert:hover {\n",
              "      background-color: #E2EBFA;\n",
              "      box-shadow: 0px 1px 2px rgba(60, 64, 67, 0.3), 0px 1px 3px 1px rgba(60, 64, 67, 0.15);\n",
              "      fill: #174EA6;\n",
              "    }\n",
              "\n",
              "    [theme=dark] .colab-df-convert {\n",
              "      background-color: #3B4455;\n",
              "      fill: #D2E3FC;\n",
              "    }\n",
              "\n",
              "    [theme=dark] .colab-df-convert:hover {\n",
              "      background-color: #434B5C;\n",
              "      box-shadow: 0px 1px 3px 1px rgba(0, 0, 0, 0.15);\n",
              "      filter: drop-shadow(0px 1px 2px rgba(0, 0, 0, 0.3));\n",
              "      fill: #FFFFFF;\n",
              "    }\n",
              "  </style>\n",
              "\n",
              "      <script>\n",
              "        const buttonEl =\n",
              "          document.querySelector('#df-c3a138c1-8587-49ae-903c-6e746945d291 button.colab-df-convert');\n",
              "        buttonEl.style.display =\n",
              "          google.colab.kernel.accessAllowed ? 'block' : 'none';\n",
              "\n",
              "        async function convertToInteractive(key) {\n",
              "          const element = document.querySelector('#df-c3a138c1-8587-49ae-903c-6e746945d291');\n",
              "          const dataTable =\n",
              "            await google.colab.kernel.invokeFunction('convertToInteractive',\n",
              "                                                     [key], {});\n",
              "          if (!dataTable) return;\n",
              "\n",
              "          const docLinkHtml = 'Like what you see? Visit the ' +\n",
              "            '<a target=\"_blank\" href=https://colab.research.google.com/notebooks/data_table.ipynb>data table notebook</a>'\n",
              "            + ' to learn more about interactive tables.';\n",
              "          element.innerHTML = '';\n",
              "          dataTable['output_type'] = 'display_data';\n",
              "          await google.colab.output.renderOutput(dataTable, element);\n",
              "          const docLink = document.createElement('div');\n",
              "          docLink.innerHTML = docLinkHtml;\n",
              "          element.appendChild(docLink);\n",
              "        }\n",
              "      </script>\n",
              "    </div>\n",
              "  </div>\n",
              "  "
            ]
          },
          "metadata": {},
          "execution_count": 96
        }
      ]
    },
    {
      "cell_type": "code",
      "source": [
        "# Dicionário de vendas no PDA\n",
        "\n",
        "dict_pda = pda_por_cidade.to_dict()\n",
        "dict_pda = { 'ALFREDO CHAVES':3069.99,\n",
        "'ANCHIETA': 3337.65,\n",
        "'GUARAPARI': 8748.72,\n",
        "'ICONHA': 2918.97,\n",
        "'ITAPEMERIM': 230.85,\n",
        "'MARATAÍZES': 1341.31,\n",
        "'PIÚMA': 191.34,\n",
        "'PRESIDENTE KENNEDY': 0,\n",
        "'RIO NOVO DO SUL': 483.35,\n",
        "'VARGEM ALTA':0}"
      ],
      "metadata": {
        "id": "EFubU-XTeODi"
      },
      "execution_count": 97,
      "outputs": []
    },
    {
      "cell_type": "code",
      "source": [
        "# Gráfico comparativo entre PDA e venda total\n",
        "\n",
        "rota = ['ALFREDO CHAVES', 'ANCHIETA', 'GUARAPARI', 'ICONHA', 'ITAPEMIRIM', 'MARATAÍZES', 'PIÚMA', 'PRESIDENTE KENNEDY', 'RIO NOVO DO SUL','VARGEM ALTA']\n",
        "venda_geral = dict_lista.values()\n",
        "venda_pda = dict_pda.values()\n",
        "x = np.arange(len(rota))\n",
        "largura = 0.40\n",
        "fig,ax = plt.subplots(figsize = (22,9))\n",
        "\n",
        "grupo1 = ax.bar(x - largura/2, venda_geral, largura, label = 'Venda Geral', color = 'turquoise')\n",
        "grupo2 = ax.bar(x + largura/2, venda_pda, largura, label = 'Venda PDA', color = 'tomato')\n",
        "ax.set_title('Vendas Millenium - PDA e Geral')\n",
        "ax.set_ylabel('Rota')\n",
        "ax.set_ylabel('Vendas')\n",
        "ax.set_xticks(x)\n",
        "ax.set_xticklabels(rota)\n",
        "ax.legend()            \n",
        "plt.show()"
      ],
      "metadata": {
        "colab": {
          "base_uri": "https://localhost:8080/",
          "height": 553
        },
        "id": "d08tqF54eoHy",
        "outputId": "a3a7f93a-4e0c-4040-9da7-fc54ae8a96af"
      },
      "execution_count": 98,
      "outputs": [
        {
          "output_type": "display_data",
          "data": {
            "text/plain": [
              "<Figure size 1584x648 with 1 Axes>"
            ],
            "image/png": "[encoded data removed]"
          },
          "metadata": {}
        }
      ]
    },
    {
      "cell_type": "markdown",
      "source": [
        "No gráfico acima, temos uma resposta relacionada ao nosso estudo. Percebemos que nos setores distantes, o PDA não tem se efetivado.\n"
      ],
      "metadata": {
        "id": "ZGobVKsysvAi"
      }
    },
    {
      "cell_type": "markdown",
      "source": [
        "#CONCLUSÃO\n",
        "\n",
        "Considerando que o foco da empresa se envolve na melhoria do PDA, de acordo com o estudo de custo/mês, o RCA gastaria em torno de R$1499.98 para visitar todas as cidades da rota. \n",
        "\n",
        "Para um melhor trabalho no PDA, a otimização do tempo, melhoria na logística e redução de custo mensal é de suma importância. Desta forma, sugiro um estudo para reduzir o setor e aumentar o volume da pasta. Este setor de viagem não nos permite visitarmos com excelência todos os nossos clientes da base, com frequência e sequência, afetando diretamente a necessidade da empresa com o foco no PDA."
      ],
      "metadata": {
        "id": "WDeyJoqTwJFO"
      }
    },
    {
      "cell_type": "code",
      "source": [
        "import cv2\n",
        "from google.colab.patches import cv2_imshow\n",
        "imagem = cv2.imread('dash.png')\n",
        "cv2_imshow(imagem)\n",
        "#Print do Dashboard Power BI"
      ],
      "metadata": {
        "colab": {
          "base_uri": "https://localhost:8080/",
          "height": 822
        },
        "id": "J7wDyzEjnIrk",
        "outputId": "0a2946ff-1260-4aad-a9ae-d829375635d3"
      },
      "execution_count": null,
      "outputs": [
        {
          "output_type": "display_data",
          "data": {
            "text/plain": [
              "<PIL.Image.Image image mode=RGB size=1449x805 at 0x7FC809E20190>"
            ],
            "image/png": "[encoded data removed]"
          },
          "metadata": {}
        }
      ]
    }
  ]
}